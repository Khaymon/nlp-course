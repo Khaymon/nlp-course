{
  "cells": [
    {
      "cell_type": "markdown",
      "metadata": {
        "id": "Dr8u2xFAnhfy"
      },
      "source": [
        "# Генерация Текста"
      ]
    },
    {
      "cell_type": "markdown",
      "metadata": {
        "id": "zq5NYU_QVqR9"
      },
      "source": [
        "Что мы хотим от генеративной модели?\n",
        "\n",
        "Мы сфокусируемся на вероятностной формулировке. Считаем, что на множестве данных $X$ есть некоторое истинное распределение $P^*(X)$. Генеративная модель будет приближать это распределение с помощью максимизации правдоподобия. Далее, из распределения, которое она выучила, мы хотим уметь сэмплировать новые примеры. "
      ]
    },
    {
      "cell_type": "markdown",
      "metadata": {
        "id": "5QcmJ_nrXrKw"
      },
      "source": [
        "На сегодняшний день самый мейнстрим-подход к текстовой генерации - сэмплирования из языковых моделей (GPT-3, T5 и тд).\n",
        "\n",
        "Текст мы представляем как последовательность токенов: $x = [x_1, x_2, ..., x_N]$."
      ]
    },
    {
      "cell_type": "markdown",
      "metadata": {
        "id": "HcFybriTVUjc"
      },
      "source": [
        "$$p([x_1, x_2, x_3]) = p(x_1) \\cdot p(x_2 | x_1) \\cdot p(x_3|x_1, x_2)$$\n",
        "$$p(x) = \\prod_{i=1}^{N}p(x_i|x_1, ..., x_{i-1})$$\n",
        "$$\\log p(x) = \\sum_{i=1}^{N}\\log p(x_i|x_1, ..., x_{i-1})$$ "
      ]
    },
    {
      "cell_type": "markdown",
      "metadata": {
        "id": "LcQSz10QDJkW"
      },
      "source": [
        "Мы построим модель с архитектурой, похожей на GPT - несколько слоёв Transformer Decoder-а."
      ]
    },
    {
      "cell_type": "markdown",
      "metadata": {
        "id": "lrHIDKr7QVOA"
      },
      "source": [
        "Для данных будем использовать датасет, состоящий из английских стихотворений: Project Gutenberg Poetry Corpus. Для токенов обучим Byte-level BPE из библиотеки tokenizers c достаточно большим размером словаря. "
      ]
    },
    {
      "cell_type": "code",
      "execution_count": 1,
      "metadata": {
        "colab": {
          "base_uri": "https://localhost:8080/"
        },
        "id": "sQe24F_HkDDi",
        "outputId": "8dfbe107-0381-4af9-c60a-80023a5cfce5"
      },
      "outputs": [
        {
          "name": "stdout",
          "output_type": "stream",
          "text": [
            "  % Total    % Received % Xferd  Average Speed   Time    Time     Time  Current\n",
            "                                 Dload  Upload   Total   Spent    Left  Speed\n",
            "100 52.2M  100 52.2M    0     0  1711k      0  0:00:31  0:00:31 --:--:-- 1180k\n"
          ]
        }
      ],
      "source": [
        "!curl -O http://static.decontextualize.com/gutenberg-poetry-v001.ndjson.gz"
      ]
    },
    {
      "cell_type": "code",
      "execution_count": 2,
      "metadata": {
        "colab": {
          "base_uri": "https://localhost:8080/"
        },
        "id": "5XOqCjrcNAa3",
        "outputId": "8af67c8e-5134-4739-fafb-ab1370f765f4"
      },
      "outputs": [
        {
          "name": "stderr",
          "output_type": "stream",
          "text": [
            "3085117it [00:06, 479511.01it/s]\n"
          ]
        }
      ],
      "source": [
        "import gzip, json\n",
        "\n",
        "from tqdm import tqdm\n",
        "\n",
        "lines = []\n",
        "for line in tqdm(gzip.open(\"gutenberg-poetry-v001.ndjson.gz\")):\n",
        "    lines.append(json.loads(line.strip()))"
      ]
    },
    {
      "cell_type": "code",
      "execution_count": 3,
      "metadata": {
        "colab": {
          "base_uri": "https://localhost:8080/"
        },
        "id": "03dJbpzmk8y3",
        "outputId": "19507b17-d5c8-470e-8dc5-016edfa05ccb"
      },
      "outputs": [
        {
          "data": {
            "text/plain": [
              "{'s': 'She all night long her amorous descant sung;', 'gid': '26'}"
            ]
          },
          "execution_count": 3,
          "metadata": {},
          "output_type": "execute_result"
        }
      ],
      "source": [
        "lines[19000]"
      ]
    },
    {
      "cell_type": "code",
      "execution_count": 5,
      "metadata": {
        "id": "9PJKMqmroH_E"
      },
      "outputs": [],
      "source": [
        "import torch\n",
        "\n",
        "import random\n",
        "import re\n",
        "from tokenizers import ByteLevelBPETokenizer\n",
        "\n",
        "def get_data_poems(lines, vocab_size):\n",
        "  tokenizer = ByteLevelBPETokenizer(dropout=0.1, lowercase=True)\n",
        "\n",
        "  tokenizer.train_from_iterator([line['s'] + '\\n' for line in lines], vocab_size=vocab_size)\n",
        "\n",
        "  tokenizer.add_special_tokens([\"[SOS]\", \"[EOS]\", \"[PAD]\"])\n",
        "\n",
        "  SOS_id = tokenizer.token_to_id(\"[SOS]\")\n",
        "  EOS_id = tokenizer.token_to_id(\"[EOS]\")\n",
        "\n",
        "  nl_id = tokenizer.encode(\"\\n\").ids[0]\n",
        "\n",
        "  last_poem_id = -1\n",
        "  chunk = []\n",
        "  train_chunks = []\n",
        "  val_chunks = []\n",
        "  for line in tqdm(lines):\n",
        "    poem_id = line['gid']\n",
        "\n",
        "    line_ids = tokenizer.encode(line['s']).ids\n",
        "\n",
        "    if len(chunk) + len(line_ids) < 64 and poem_id == last_poem_id:\n",
        "      chunk.extend([nl_id] + line_ids)\n",
        "    else:\n",
        "      if chunk:\n",
        "          if random.random() > 0.01:\n",
        "              train_chunks.append([SOS_id] + chunk + [EOS_id])\n",
        "          else:\n",
        "              val_chunks.append([SOS_id] + chunk + [EOS_id])\n",
        "\n",
        "      if len(line_ids) < 64:\n",
        "          chunk = line_ids\n",
        "      else:\n",
        "          chunk = []\n",
        "    \n",
        "    last_poem_id = poem_id\n",
        "\n",
        "  return LMDataset(train_chunks), LMDataset(val_chunks), tokenizer\n",
        "\n",
        "class LMDataset(torch.utils.data.Dataset):\n",
        "    def __init__(self, chunks):\n",
        "        super(LMDataset).__init__()\n",
        "        self.data = chunks\n",
        "\n",
        "    def __len__(self):\n",
        "        return len(self.data)\n",
        "\n",
        "    def __getitem__(self, idx):\n",
        "        return self.data[idx]\n",
        "\n",
        "\n",
        "def collate_fn_lm(PAD_id, samples):\n",
        "    batch_size = len(samples)\n",
        "\n",
        "    max_len = max(len(sample) for sample in samples)\n",
        "\n",
        "    src_tensor = torch.ones((batch_size, max_len), dtype=torch.long) * PAD_id\n",
        "\n",
        "    lengths = []\n",
        "    for (batch_id, s) in enumerate(samples):\n",
        "        length = len(s)\n",
        "\n",
        "        src_tensor[batch_id][:length] = torch.tensor(s)\n",
        "\n",
        "        lengths.append(length)\n",
        "\n",
        "    return src_tensor, torch.tensor(lengths)\n"
      ]
    },
    {
      "cell_type": "code",
      "execution_count": 6,
      "metadata": {
        "colab": {
          "base_uri": "https://localhost:8080/"
        },
        "id": "kwN-jcdJgn9E",
        "outputId": "7fef07f5-9a67-4dd5-e5a6-1f85b09d8563"
      },
      "outputs": [
        {
          "name": "stdout",
          "output_type": "stream",
          "text": [
            "\n",
            "\n",
            "\n"
          ]
        },
        {
          "name": "stderr",
          "output_type": "stream",
          "text": [
            "100%|██████████| 3085117/3085117 [00:51<00:00, 59871.99it/s]\n"
          ]
        }
      ],
      "source": [
        "train_dataset, val_dataset, tokenizer = list(get_data_poems(lines, 8192))\n",
        "\n",
        "SOS_id = tokenizer.token_to_id(\"[SOS]\")\n",
        "EOS_id = tokenizer.token_to_id(\"[EOS]\")\n",
        "PAD_id = tokenizer.token_to_id(\"[PAD]\")"
      ]
    },
    {
      "cell_type": "code",
      "execution_count": 7,
      "metadata": {
        "colab": {
          "base_uri": "https://localhost:8080/"
        },
        "id": "GkI1CXehBwuj",
        "outputId": "2ad653b1-67cb-434b-c517-f2bcab0cc8db"
      },
      "outputs": [
        {
          "name": "stdout",
          "output_type": "stream",
          "text": [
            "587692 стихов\n",
            "Пример:\n",
            "\n",
            "and beyond them stood the forest,\n",
            "stood the groves of singing pine-trees,\n",
            "green in summer, white in winter,\n",
            "ever sighing, ever singing.\n",
            "\"and the pleasant water-courses,\n",
            "you could trace them through the valley,\n",
            "by the rushing in the spring-time,\n"
          ]
        }
      ],
      "source": [
        "print(f\"{len(train_dataset)} стихов\")\n",
        "print(\"Пример:\\n\")\n",
        "\n",
        "print(tokenizer.decode(train_dataset[18]))"
      ]
    },
    {
      "cell_type": "markdown",
      "metadata": {
        "id": "ljmUxsZ7PtvX"
      },
      "source": [
        "Определим нашу модель. Как и модели семейства GPT, это просто несколько слоёв Transformer Decoder-а."
      ]
    },
    {
      "cell_type": "code",
      "execution_count": 80,
      "metadata": {
        "id": "h6wZsEVDPlbQ"
      },
      "outputs": [],
      "source": [
        "import torch\n",
        "import torch.nn as nn\n",
        "import torch.nn.functional as F\n",
        "import math\n",
        "from torch.nn import TransformerEncoder, TransformerEncoderLayer\n",
        "\n",
        "class PositionalEncoding(nn.Module):\n",
        "    def __init__(self, hidden_size, dropout=0.1, max_len=1000):\n",
        "        super(PositionalEncoding, self).__init__()\n",
        "        self.dropout = nn.Dropout(p=dropout)\n",
        "\n",
        "        pe = torch.zeros(max_len, hidden_size)\n",
        "        \n",
        "        position = torch.arange(0, max_len, dtype=torch.float).unsqueeze(1)\n",
        "        div_term = torch.exp(torch.arange(0, hidden_size, 2).float() * (-math.log(10000.0) / hidden_size))\n",
        "        \n",
        "        pe[:, 0::2] = torch.sin(position * div_term)\n",
        "        pe[:, 1::2] = torch.cos(position * div_term)\n",
        "        \n",
        "        pe = pe.unsqueeze(0).transpose(0, 1)\n",
        "        \n",
        "        self.register_buffer('pe', pe)\n",
        "\n",
        "    def forward(self, x):\n",
        "        x = x + self.pe[:x.size(0), :]\n",
        "        \n",
        "        return self.dropout(x)\n",
        "\n",
        "class Model(nn.Module):\n",
        "    def __init__(self, vocab_size, hidden_size, n_heads, n_layers, dropout):\n",
        "        super(Model, self).__init__()\n",
        "\n",
        "        self.vocab_size = vocab_size\n",
        "        self.emb = nn.Embedding(vocab_size, hidden_size)\n",
        "\n",
        "        self.pos_emb = PositionalEncoding(hidden_size)\n",
        " \n",
        "        layer = TransformerEncoderLayer(hidden_size, n_heads, hidden_size, dropout)\n",
        "\n",
        "        self.layers = TransformerEncoder(layer, n_layers)\n",
        "\n",
        "        self.out = nn.Linear(hidden_size, vocab_size)\n",
        "\n",
        "    def forward(self, x):\n",
        "        x_len = x.size(1)\n",
        "\n",
        "        padding_mask = (x == PAD_id)\n",
        "\n",
        "        x = self.pos_emb(self.emb(x) * math.sqrt(self.vocab_size))\n",
        "\n",
        "        attn_mask = nn.Transformer.generate_square_subsequent_mask(x_len).to(device)\n",
        "\n",
        "        out = self.layers(x.transpose(0, 1), attn_mask, padding_mask).transpose(0, 1)\n",
        "\n",
        "        out = self.out(out)\n",
        "\n",
        "        return out"
      ]
    },
    {
      "cell_type": "code",
      "execution_count": 9,
      "metadata": {
        "colab": {
          "base_uri": "https://localhost:8080/"
        },
        "id": "NAme2a9ARISJ",
        "outputId": "8ee5fe8f-d525-45b0-8d35-e4d2078df9b2"
      },
      "outputs": [
        {
          "data": {
            "text/plain": [
              "tensor([[0., -inf, -inf],\n",
              "        [0., 0., -inf],\n",
              "        [0., 0., 0.]])"
            ]
          },
          "execution_count": 9,
          "metadata": {},
          "output_type": "execute_result"
        }
      ],
      "source": [
        "nn.Transformer.generate_square_subsequent_mask(3)"
      ]
    },
    {
      "cell_type": "markdown",
      "metadata": {
        "id": "r7hUQLSEP24o"
      },
      "source": [
        "Можно заметить, однако, что в коде выше используется модуль из pytorch, который называется TransfomerEncoder. Существует некоторая путаница, что называть Transformer Decoder-ом. В оргинальной статье про трансформер https://arxiv.org/abs/1706.03762 декодер используется для перевода и имеет два блока внимания, self-attention, и attention, который \"смотрит\" на выходы энкодера. При этом в GPT и подобных моделят используется один блок self-attention. Отличие от энкодера здесь в авторегрессионной маске аттеншена, которая заставляет модель смотреть только на предыдущие токены. "
      ]
    },
    {
      "cell_type": "markdown",
      "metadata": {
        "id": "fxpOcA7cZ3u0"
      },
      "source": [
        "*Для заданий ниже можно использовать модель, которая будет больше, и учить её дольше (но не меньше).* "
      ]
    },
    {
      "cell_type": "code",
      "execution_count": 10,
      "metadata": {
        "id": "vFalMzQ7QNa0"
      },
      "outputs": [],
      "source": [
        "from torch.utils.data import DataLoader\n",
        "from functools import partial\n",
        "\n",
        "device = torch.device(\"cuda\" if torch.cuda.is_available() else \"cpu\")\n",
        "\n",
        "vocab_size = tokenizer.get_vocab_size()\n",
        "hidden_size = 768\n",
        "n_layers = 5\n",
        "n_heads = 8\n",
        "dropout = 0.1\n",
        "\n",
        "batch_size = 128\n",
        "epochs = 1\n",
        "\n",
        "model = Model(vocab_size, hidden_size, n_heads, n_layers, dropout).to(device)\n",
        "\n",
        "train_loader = DataLoader(\n",
        "    train_dataset\n",
        "    , batch_size=batch_size\n",
        "    , shuffle=True\n",
        "    , collate_fn=partial(collate_fn_lm, PAD_id)\n",
        ")\n",
        "\n",
        "val_loader = DataLoader(\n",
        "    val_dataset\n",
        "    , batch_size=batch_size\n",
        "    , shuffle=False\n",
        "    , collate_fn=partial(collate_fn_lm, PAD_id)\n",
        "    , drop_last=True\n",
        ")\n",
        "\n",
        "criterion = nn.CrossEntropyLoss(reduction='none')\n",
        "lr = 3e-4\n",
        "optimizer = torch.optim.Adam(model.parameters(), lr=lr)"
      ]
    },
    {
      "cell_type": "code",
      "execution_count": 83,
      "metadata": {
        "id": "1ULy2LRFppRc"
      },
      "outputs": [],
      "source": [
        "from tqdm import tqdm\n",
        "\n",
        "def train(model, train_loader, val_loader, epochs, val_each=100):\n",
        "    for epoch in range(1, epochs+1):\n",
        "      for idx, (batch, _) in enumerate(tqdm(train_loader)):\n",
        "          batch = batch.to(device)\n",
        "          src = batch[:, :-1]\n",
        "          tar = batch[:, 1:]\n",
        "\n",
        "          optimizer.zero_grad()\n",
        "\n",
        "          out = model(src)\n",
        "\n",
        "          loss = criterion(out.transpose(-2, -1), tar)[src != PAD_id].mean()\n",
        "\n",
        "          loss.backward()\n",
        "          grad_norm = torch.nn.utils.clip_grad_norm_(model.parameters(), 0.5)\n",
        "\n",
        "          optimizer.step()\n",
        "\n",
        "          if (idx + 1) % val_each == 0:\n",
        "            total_loss = 0.0\n",
        "            n = 0\n",
        "            for batch, _ in val_loader:\n",
        "              model.eval()\n",
        "\n",
        "              batch = batch.to(device)\n",
        "              src = batch[:, :-1]\n",
        "              tar = batch[:, 1:]\n",
        "\n",
        "              out = model(src)\n",
        "\n",
        "              loss = criterion(out.transpose(-2, -1), tar)[src != PAD_id].mean()\n",
        "\n",
        "              total_loss += loss.item()\n",
        "              n += 1\n",
        "\n",
        "              model.train()\n",
        "            \n",
        "            print(f\"Val loss: {total_loss/n:.2f}\")\n",
        "  \n",
        "    return model"
      ]
    },
    {
      "cell_type": "code",
      "execution_count": 12,
      "metadata": {
        "colab": {
          "base_uri": "https://localhost:8080/"
        },
        "id": "j94eFckVs11T",
        "outputId": "6eaf58d7-fdbb-413e-fe72-bfd3eb25dbc3"
      },
      "outputs": [
        {
          "name": "stdout",
          "output_type": "stream",
          "text": [
            "OK\n"
          ]
        }
      ],
      "source": [
        "trained = True\n",
        "\n",
        "if trained:\n",
        "    model = torch.load(\"decoder.pt\").to(device)\n",
        "else:\n",
        "    model = train(model, train_loader, val_loader, epochs)\n",
        "    torch.save(model, \"decoder.pt\")\n",
        "\n",
        "model.eval()\n",
        "\n",
        "print(\"OK\")"
      ]
    },
    {
      "cell_type": "markdown",
      "metadata": {
        "id": "S5HAVvDwaddo"
      },
      "source": [
        "# О языковых моделях"
      ]
    },
    {
      "cell_type": "markdown",
      "metadata": {
        "id": "B3Ww0kprfFKn"
      },
      "source": [
        "### Успехи:\n",
        "\n",
        "- T5: Exploring the Limits of Transfer Learning with a Unified\n",
        "Text-to-Text Transformer https://arxiv.org/pdf/1910.10683.pdf\n",
        "\n",
        "- GPT-3: Language Models are Few-Shot Learners https://arxiv.org/pdf/2005.14165.pdf.\n",
        "\n",
        "- ChatGPT - она же, дообученная для диалогов.\n",
        "\n",
        "- Балабоба\n",
        "\n",
        "###Проблемы:\n",
        "- The Curious Case of Neural Text De-Generation https://openreview.net/pdf?id=rygGQyrFvH\n",
        "- A Theoretical Analysis of the Repetition Problem in Text Generation https://arxiv.org/pdf/2012.14660.pdf\n",
        "\n",
        "###Альтернативы:\n",
        "- INSNET: An Efficient, Flexible, and Performant\n",
        "Insertion-based Text Generation Model https://arxiv.org/pdf/2102.11008.pdf\n",
        "\n",
        "\n",
        "- Structured Denoising Diffusion Models in Discrete\n",
        "State-Spaces https://arxiv.org/pdf/2107.03006.pdf - неавторегрессионная дискретная диффузия\n",
        "\n",
        "###Метрики:\n",
        "\n",
        "- MAUVE: Measuring the Gap\n",
        "Between Neural Text and Human Text\n",
        "using Divergence Frontiers https://arxiv.org/pdf/2102.01454.pdf"
      ]
    },
    {
      "cell_type": "markdown",
      "metadata": {
        "id": "HcHt3JIqUvzF"
      },
      "source": [
        "Вернёмся к нашей сети. Как теперь генерировать новые тексты из неё? Раз сеть выдаёт распределение на токенах на каждом шаге, то можно сэмплировать новый токен в соответствие с этим распределением:"
      ]
    },
    {
      "cell_type": "code",
      "execution_count": 14,
      "metadata": {
        "id": "AYEWYFtMK08D"
      },
      "outputs": [],
      "source": [
        "def sample_generate(model, ids, max_len, EOS_id):\n",
        "    for j in range(len(ids), max_len):\n",
        "      x = torch.tensor(ids).unsqueeze(0).to(device)\n",
        "\n",
        "      x_len = x.size(1)\n",
        "\n",
        "      out = model(x)\n",
        "\n",
        "      dist = torch.distributions.categorical.Categorical(logits=out[0][x_len-1])\n",
        "\n",
        "      next_id = dist.sample().item()\n",
        "\n",
        "      if next_id == EOS_id:\n",
        "        break\n",
        "\n",
        "      ids.append(next_id)\n",
        "\n",
        "    return ids"
      ]
    },
    {
      "cell_type": "code",
      "execution_count": 15,
      "metadata": {
        "colab": {
          "base_uri": "https://localhost:8080/"
        },
        "id": "4mqFNheUs5iV",
        "outputId": "f7ea9903-0287-40d3-98df-5fc9c28f6b8a"
      },
      "outputs": [
        {
          "name": "stdout",
          "output_type": "stream",
          "text": [
            "that no man can paint, -- his city braved\n",
            "what is his purpose, on earth?\n",
            "this life and joy, if i sorrow bear\n",
            "the burden that hath made no part\n",
            "to stay, and breathe my joy in peace,\n",
            "yet still the other, than our despairs\n",
            "the interchange of fortune, and like\n"
          ]
        }
      ],
      "source": [
        "model.eval()\n",
        "\n",
        "start_ids = [SOS_id]\n",
        "\n",
        "sample_ids = sample_generate(model, start_ids, 100, EOS_id)\n",
        "\n",
        "sent = tokenizer.decode(sample_ids[1:])\n",
        "\n",
        "print(sent)"
      ]
    },
    {
      "cell_type": "markdown",
      "metadata": {
        "id": "gvKuqrj0DCAp"
      },
      "source": [
        "Мы можем увидеть несуществующие слова, проблемы с грамматикой и тд. Всё из-за того, что при сэмплировании нам может попасться токен, имеющий низкую вероятность с точки зрения модели. С этой проблемой можно попробовать справиться простым способом: ограничить область сэмплирования топ-k токенами, имеющими максимальную вероятность."
      ]
    },
    {
      "cell_type": "code",
      "execution_count": 87,
      "metadata": {
        "id": "gj2IwUZE7Ms-"
      },
      "outputs": [],
      "source": [
        "def top_k_generate(model, ids, max_len, EOS_id, k):\n",
        "    for j in range(len(ids), max_len):\n",
        "      x = torch.tensor(ids).unsqueeze(0).to(device)\n",
        "\n",
        "      x_len = x.size(1)\n",
        "\n",
        "      out = model(x)\n",
        "\n",
        "      topv, topi = out[0][-1].topk(k)\n",
        "\n",
        "      dist = torch.distributions.categorical.Categorical(logits=topv)\n",
        "\n",
        "      next_id = topi[dist.sample().item()].item()\n",
        "\n",
        "      if next_id == EOS_id:\n",
        "        break\n",
        "\n",
        "      ids.append(next_id)\n",
        "\n",
        "    return ids"
      ]
    },
    {
      "cell_type": "code",
      "execution_count": 17,
      "metadata": {
        "colab": {
          "base_uri": "https://localhost:8080/"
        },
        "id": "ChYHOQot6UQV",
        "outputId": "035118b0-3258-41db-e971-7ff681c84080"
      },
      "outputs": [
        {
          "name": "stdout",
          "output_type": "stream",
          "text": [
            "but of the people all their mouths\n",
            "have come:  all they were gone\n",
            "to them whose face was in the tomb.\n",
            "some were not the face of all too much--\n",
            "why should they like a vision fall?\n",
            "some were the fire to earth on the ground,\n",
            "like a deep sea so vastly so bright.\n"
          ]
        }
      ],
      "source": [
        "start_ids = [SOS_id]\n",
        "\n",
        "sample_ids = top_k_generate(model, start_ids, 100, EOS_id, 100)\n",
        "\n",
        "sent = tokenizer.decode(sample_ids[1:])\n",
        "\n",
        "print(sent)"
      ]
    },
    {
      "cell_type": "code",
      "execution_count": 18,
      "metadata": {
        "colab": {
          "base_uri": "https://localhost:8080/"
        },
        "id": "UrU950dtdnwZ",
        "outputId": "c5358fd9-0e8c-43b4-edef-64c96b8a7a61"
      },
      "outputs": [
        {
          "name": "stdout",
          "output_type": "stream",
          "text": [
            "old mcdonald had a farm,\n",
            "and the old man's wife,\n",
            "and the old man's wife.\n",
            "\"i have a little child,\" said he,\n",
            "\"i have a little child,\n",
            "and i have a little child,\n",
            "and i have a little child,\n",
            "and i have a little child,\n",
            "and i have a little child.\n"
          ]
        }
      ],
      "source": [
        "start_ids = [SOS_id] + tokenizer.encode(\"Old McDonald had a farm,\\n\").ids\n",
        "\n",
        "sample_ids = top_k_generate(model, start_ids, 100, EOS_id, 1)\n",
        "\n",
        "sent = tokenizer.decode(sample_ids[1:])\n",
        "\n",
        "print(sent)"
      ]
    },
    {
      "cell_type": "markdown",
      "metadata": {
        "id": "0to6KsUZDuAM"
      },
      "source": [
        "Несуществующие слова пропали, можно увидеть более грамматичные предложения. "
      ]
    },
    {
      "cell_type": "markdown",
      "metadata": {
        "id": "ls_IjgHckVMM"
      },
      "source": [
        "# Задание 1"
      ]
    },
    {
      "cell_type": "markdown",
      "metadata": {
        "id": "5nI8Dtpy_Gl6"
      },
      "source": [
        "Реализуйте Nucleus Sampling из статьи The Curious Case of Neural Text *De*-Generation: https://openreview.net/pdf?id=rygGQyrFvH\n",
        "\n",
        "Протестируйте качество генерации на модели выше, сэмплируя стихотворения с помощью нового метода. Попробуйте разные значения $p$, найдите по вашему мнению оптимальное."
      ]
    },
    {
      "cell_type": "code",
      "execution_count": 86,
      "metadata": {
        "id": "Eut-ciO_EV-R"
      },
      "outputs": [],
      "source": [
        "def nucleus_sampling_generate(model, ids, max_len, EOS_id, p):\n",
        "    for j in range(len(ids), max_len):\n",
        "      x = torch.tensor(ids).unsqueeze(0).to(device)\n",
        "\n",
        "      x_len = x.size(1)\n",
        "\n",
        "      out = model(x)\n",
        "      \n",
        "      # Getting probas from logits\n",
        "      probas = torch.softmax(out[0][-1], dim=0)\n",
        "      assert probas.shape[0] == vocab_size\n",
        "\n",
        "      # Get probas sorted indices in descending order\n",
        "      sorted_ids = probas.argsort(dim=0, descending=True)\n",
        "\n",
        "      # Get cumulative sum of sorted probas\n",
        "      probas_cumsum = probas[sorted_ids].cumsum(dim=0)\n",
        "      assert probas_cumsum.shape[0] == vocab_size\n",
        "\n",
        "      # Get nucleus using a threshold\n",
        "      mask = probas_cumsum < p\n",
        "      mask[0] = True\n",
        "\n",
        "      # Getting the ids of candidates\n",
        "      candidates_ids = sorted_ids[mask]\n",
        "\n",
        "      probas = probas.unsqueeze(0)[:, candidates_ids]\n",
        "      probas /= probas.sum()\n",
        "      next_id = sorted_ids[torch.multinomial(probas, 1)].item()\n",
        "\n",
        "      if next_id == EOS_id:\n",
        "        break\n",
        "\n",
        "      ids.append(next_id)\n",
        "\n",
        "    return ids"
      ]
    },
    {
      "cell_type": "code",
      "execution_count": 20,
      "metadata": {
        "colab": {
          "base_uri": "https://localhost:8080/"
        },
        "id": "HR7CtnsTqIPI",
        "outputId": "79e12dad-49e3-4f7e-de57-3464b5d19cf7"
      },
      "outputs": [
        {
          "name": "stdout",
          "output_type": "stream",
          "text": [
            "through that vast prisoner errors.\n",
            "with god knows such scenes to claim\n",
            "such fruits are scarcely known,\n",
            "but what is duty made;\n",
            "who sought its seeds the pious crew\n",
            "to see them, yet with no loss of pain,\n",
            "that recedons go away.\n",
            "thus, seeing any fear.\n"
          ]
        }
      ],
      "source": [
        "start_ids = [SOS_id]\n",
        "\n",
        "sample_ids = nucleus_sampling_generate(model, start_ids, 100, EOS_id, 0.9)\n",
        "\n",
        "sent = tokenizer.decode(sample_ids[1:])\n",
        "\n",
        "print(sent)"
      ]
    },
    {
      "cell_type": "markdown",
      "metadata": {
        "id": "ICcneIgbEaFt"
      },
      "source": [
        "# Задание 2\n",
        "\n",
        "Для каждого из методов сэмплирования сгенерируйте по 1000 примеров и сравните с 1000 примерами из валидационных данных с помощью метрики MAUVE https://github.com/krishnap25/mauve\n",
        "\n",
        "Попробуйте разные k в top-k методе и p в nucleus sampling. Также измерьте MAUVE на двух кусках по 1000 примеров из валидации. Сделайте выводы.\n"
      ]
    },
    {
      "cell_type": "code",
      "execution_count": 21,
      "metadata": {
        "colab": {
          "base_uri": "https://localhost:8080/"
        },
        "id": "pdrDG_oAqxyv",
        "outputId": "0c5664e9-d797-4390-81ca-3e770a9851ad"
      },
      "outputs": [
        {
          "name": "stdout",
          "output_type": "stream",
          "text": [
            "\u001b[2K     \u001b[90m━━━━━━━━━━━━━━━━━━━━━━━━━━━━━━━━━━━━━━━━\u001b[0m \u001b[32m81.4/81.4 KB\u001b[0m \u001b[31m3.7 MB/s\u001b[0m eta \u001b[36m0:00:00\u001b[0m\n",
            "\u001b[2K     \u001b[90m━━━━━━━━━━━━━━━━━━━━━━━━━━━━━━━━━━━━━━━━\u001b[0m \u001b[32m6.3/6.3 MB\u001b[0m \u001b[31m59.3 MB/s\u001b[0m eta \u001b[36m0:00:00\u001b[0m\n",
            "\u001b[2K     \u001b[90m━━━━━━━━━━━━━━━━━━━━━━━━━━━━━━━━━━━━━━━━\u001b[0m \u001b[32m85.5/85.5 MB\u001b[0m \u001b[31m14.3 MB/s\u001b[0m eta \u001b[36m0:00:00\u001b[0m\n",
            "\u001b[2K     \u001b[90m━━━━━━━━━━━━━━━━━━━━━━━━━━━━━━━━━━━━━━\u001b[0m \u001b[32m132.0/132.0 KB\u001b[0m \u001b[31m18.0 MB/s\u001b[0m eta \u001b[36m0:00:00\u001b[0m\n",
            "\u001b[2K     \u001b[90m━━━━━━━━━━━━━━━━━━━━━━━━━━━━━━━━━━━━━━\u001b[0m \u001b[32m190.3/190.3 KB\u001b[0m \u001b[31m25.5 MB/s\u001b[0m eta \u001b[36m0:00:00\u001b[0m\n",
            "\u001b[2K     \u001b[90m━━━━━━━━━━━━━━━━━━━━━━━━━━━━━━━━━━━━━━\u001b[0m \u001b[32m213.0/213.0 KB\u001b[0m \u001b[31m28.9 MB/s\u001b[0m eta \u001b[36m0:00:00\u001b[0m\n",
            "\u001b[2K     \u001b[90m━━━━━━━━━━━━━━━━━━━━━━━━━━━━━━━━━━━━━━\u001b[0m \u001b[32m462.8/462.8 KB\u001b[0m \u001b[31m47.1 MB/s\u001b[0m eta \u001b[36m0:00:00\u001b[0m\n",
            "\u001b[2K     \u001b[90m━━━━━━━━━━━━━━━━━━━━━━━━━━━━━━━━━━━━━━━━\u001b[0m \u001b[32m17.0/17.0 MB\u001b[0m \u001b[31m84.2 MB/s\u001b[0m eta \u001b[36m0:00:00\u001b[0m\n",
            "\u001b[2K     \u001b[90m━━━━━━━━━━━━━━━━━━━━━━━━━━━━━━━━━━━━━━\u001b[0m \u001b[32m140.6/140.6 KB\u001b[0m \u001b[31m17.9 MB/s\u001b[0m eta \u001b[36m0:00:00\u001b[0m\n",
            "\u001b[?25h"
          ]
        }
      ],
      "source": [
        "!pip -q install evaluate transformers faiss-gpu mauve-text"
      ]
    },
    {
      "cell_type": "code",
      "execution_count": 22,
      "metadata": {
        "colab": {
          "base_uri": "https://localhost:8080/",
          "height": 49,
          "referenced_widgets": [
            "12c6bf23cd314271ae651b3bb8b7ba27",
            "d9fe575dac934ff88c8422145ec0daf8",
            "dd219017c5d04517a2e6d4286d2e0f06",
            "f7826425bb1b45ffbee6d85164048070",
            "7f3896d1ca024df1ba352020af744c24",
            "b9287092441c4f9db0f9fc2486391f3e",
            "47f3b4d56ee7490b94f35bc0ba4f08dc",
            "4c8b74ff4a4c42f28bd0697a1ddd0fc5",
            "508bce18d83f40fdbee569535f9db8d9",
            "9f2c591add2c417a8779f456b511983d",
            "195c812a8d544849935bc911b8400820"
          ]
        },
        "id": "p7hknElrq4l3",
        "outputId": "f0ebfcce-15eb-472c-b265-2f8691182b3f"
      },
      "outputs": [
        {
          "data": {
            "application/vnd.jupyter.widget-view+json": {
              "model_id": "12c6bf23cd314271ae651b3bb8b7ba27",
              "version_major": 2,
              "version_minor": 0
            },
            "text/plain": [
              "Downloading builder script:   0%|          | 0.00/6.63k [00:00<?, ?B/s]"
            ]
          },
          "metadata": {},
          "output_type": "display_data"
        }
      ],
      "source": [
        "from evaluate import load\n",
        "import numpy as np\n",
        "\n",
        "mauve = load('mauve')"
      ]
    },
    {
      "cell_type": "code",
      "execution_count": 23,
      "metadata": {
        "colab": {
          "base_uri": "https://localhost:8080/",
          "height": 432,
          "referenced_widgets": [
            "1083ca6b41f445e5b2e8ab62dc8c8c6f",
            "2684ef7875fc49e3b35a962ccfc49f81",
            "0c6e01b319ca45a39dfd200094f90639",
            "3209cba4de9847e3aeef3e1f7823c26a",
            "23e80304dc634dee88bfc24478c8a763",
            "b83460fdeb06475a800088c17f7c0500",
            "5b04638b46344cb9894f7ffa69376cc3",
            "e55b3366de92435ca91aef0083be29dc",
            "08bf1a594fe048ec9c7203e5af326e42",
            "8b615ddae49047d688600abb759e9e7d",
            "71c3323ace1144d18f4bdd3d95015f9c",
            "065edaa751e246388f52f5fcfbc5a86e",
            "1ca5d4476f6a484ab9cc5b014aa4c87d",
            "fb2911c2624448f5adaa6d1baaaeeea1",
            "9ff5c6a7619646f5b72393de2758110f",
            "e19c0a343947409db291c9cd5afeb626",
            "f230427ee7f24ab0b7cc8679459560c9",
            "83ddd7849f1c499f88bddbba9c23c519",
            "9192224121f64ac9ac818d7d7d2832aa",
            "f85cb698ec3c41c7aa4b695a08fc8cc1",
            "2c84a218205e49239d225e80547e41b5",
            "014a4e5abcc143069dee1ebe572b9996",
            "0acb9a1cfc424de8a3bd20701b8b1c97",
            "8befc5621af148ecaeee1662ea34d385",
            "bcdb8b84ebb2434898beb5187823336a",
            "0ca7213a2efb406f82a93358830203b2",
            "cbc8625232c8490491735722b96e6641",
            "733292d5199c48f28996150c39da5e48",
            "0f44514ecbad4ffcbe0a1331b0c72293",
            "7ade6688c86c4c3bbfe5cdb7b10f2e26",
            "545c8b5db0ad4586ae47657310e4921f",
            "1c2cb3c52e074bf98733a158fbe465ef",
            "4f11c38bedff462293bdbbf8e0be4ca9",
            "93bcceaf2d274ef4a0c04e3378440f0e",
            "99505653721845a98bf318cfee5e62d8",
            "591aed7ad55742e1ab023a1a32691150",
            "1ba2b9e5bac449f5a270e5bf5da0c005",
            "6ae8f4843fc14028878039521d9d7d8f",
            "dbd41eef37424829a0195e3e6e76a9fe",
            "1369193be9114d8392a43b292c404854",
            "cff52cabcefc4a5dbe69cf6e59566b7f",
            "55647b64342d48e7a9444297557670c1",
            "c6b9682b49e445f0899457d2257660f4",
            "61eca1f041f74834984b385d08283145",
            "9c5f23295cfe44d7822bfc8a4df90768",
            "b9e3bcb215ac4d8fa7c5eadcd0ba8f8a",
            "dda2fa113e5246eda8c580b6cb14b8d8",
            "ed7901c8b91d4fdd8e6439a3849e5f3c",
            "bfe0e012115f4824af40d49c387d5545",
            "6b397c6143814a68ae70069b87b790fa",
            "23aba8fca3a14e359e545bb664878f5d",
            "d1f8521d01184c64a05d9a5878456d69",
            "c426e75be4eb47feb48d8f07bb0366b7",
            "689fbb6aecf84c778fa48dce5164b5c0",
            "439fcafcea624d3a97d74b272dd5cb02",
            "3825280ce1024523a689596bc9bf8530",
            "da76830ca6ef480c8daa52f5e98a298b",
            "6374a90ea93c4d28a6493ce6ea9d513d",
            "9c599473a5fd43f8a3f859b11d2c3604",
            "d6f46d7ce3a4423783f0d0b655631eab",
            "5d0491e3a7bf465fab955ccc24906dd5",
            "29ae07b2981e467581df5413ccffe771",
            "b9e0d6f9667b4c5e8d7cfc6de2ad0e81",
            "acb49c5099b24399b6c16e9b7313f363",
            "f4d6a598e66e4d78a55b5ec10b594f6b",
            "9d51d03ee7864f748bfd40ce9a509990",
            "fcd102872acb499bb3c738f60e1db99a",
            "b5e70fe1c90748d6a7460fb7bd28b29f",
            "80f1f2e6ebb64fa68f3a3dfacf63a06b",
            "57d45440408e4750a709527048e63a0d",
            "14a76acd024e4f97b35aca49f85af98e",
            "40680b1e6d3c4e33b53e62f869d66675",
            "90f15b8868954c67ad62816dadc60900",
            "6c9fb81fb2f24257aedaecc363904a24",
            "f408f337632645f79be1ebc6ecc89c08",
            "f8d755123ab74b328631e7ad28c718de",
            "241c642f592844cc9ad98885a77bfaaa"
          ]
        },
        "id": "yKmJiE_pdn6O",
        "outputId": "3d671ccd-cd80-41c5-964e-011b89f7e6e0"
      },
      "outputs": [
        {
          "name": "stdout",
          "output_type": "stream",
          "text": [
            "Loading tokenizer\n"
          ]
        },
        {
          "data": {
            "application/vnd.jupyter.widget-view+json": {
              "model_id": "1083ca6b41f445e5b2e8ab62dc8c8c6f",
              "version_major": 2,
              "version_minor": 0
            },
            "text/plain": [
              "Downloading (…)lve/main/config.json:   0%|          | 0.00/666 [00:00<?, ?B/s]"
            ]
          },
          "metadata": {},
          "output_type": "display_data"
        },
        {
          "data": {
            "application/vnd.jupyter.widget-view+json": {
              "model_id": "065edaa751e246388f52f5fcfbc5a86e",
              "version_major": 2,
              "version_minor": 0
            },
            "text/plain": [
              "Downloading (…)olve/main/vocab.json:   0%|          | 0.00/1.04M [00:00<?, ?B/s]"
            ]
          },
          "metadata": {},
          "output_type": "display_data"
        },
        {
          "data": {
            "application/vnd.jupyter.widget-view+json": {
              "model_id": "0acb9a1cfc424de8a3bd20701b8b1c97",
              "version_major": 2,
              "version_minor": 0
            },
            "text/plain": [
              "Downloading (…)olve/main/merges.txt:   0%|          | 0.00/456k [00:00<?, ?B/s]"
            ]
          },
          "metadata": {},
          "output_type": "display_data"
        },
        {
          "data": {
            "application/vnd.jupyter.widget-view+json": {
              "model_id": "93bcceaf2d274ef4a0c04e3378440f0e",
              "version_major": 2,
              "version_minor": 0
            },
            "text/plain": [
              "Downloading (…)/main/tokenizer.json:   0%|          | 0.00/1.36M [00:00<?, ?B/s]"
            ]
          },
          "metadata": {},
          "output_type": "display_data"
        },
        {
          "name": "stdout",
          "output_type": "stream",
          "text": [
            "Tokenizing text...\n",
            "Loading tokenizer\n",
            "Loading model\n"
          ]
        },
        {
          "data": {
            "application/vnd.jupyter.widget-view+json": {
              "model_id": "9c5f23295cfe44d7822bfc8a4df90768",
              "version_major": 2,
              "version_minor": 0
            },
            "text/plain": [
              "Downloading (…)\"pytorch_model.bin\";:   0%|          | 0.00/3.25G [00:00<?, ?B/s]"
            ]
          },
          "metadata": {},
          "output_type": "display_data"
        },
        {
          "name": "stdout",
          "output_type": "stream",
          "text": [
            "Featurizing tokens\n"
          ]
        },
        {
          "data": {
            "application/vnd.jupyter.widget-view+json": {
              "model_id": "3825280ce1024523a689596bc9bf8530",
              "version_major": 2,
              "version_minor": 0
            },
            "text/plain": [
              "Featurizing p:   0%|          | 0/2 [00:00<?, ?it/s]"
            ]
          },
          "metadata": {},
          "output_type": "display_data"
        },
        {
          "name": "stdout",
          "output_type": "stream",
          "text": [
            "Tokenizing text...\n",
            "Featurizing tokens\n"
          ]
        },
        {
          "data": {
            "application/vnd.jupyter.widget-view+json": {
              "model_id": "fcd102872acb499bb3c738f60e1db99a",
              "version_major": 2,
              "version_minor": 0
            },
            "text/plain": [
              "Featurizing q:   0%|          | 0/2 [00:00<?, ?it/s]"
            ]
          },
          "metadata": {},
          "output_type": "display_data"
        },
        {
          "name": "stdout",
          "output_type": "stream",
          "text": [
            "seed = 25\n",
            "performing clustering in lower dimension = 0\n",
            "kmeans time: 0.07 s\n",
            "total discretization time: 0.14 seconds\n"
          ]
        }
      ],
      "source": [
        "predictions = [\"hello world\", \"goodnight moon\"]\n",
        "references = [\"hello world\",  \"goodnight moon\"]\n",
        "mauve_results = mauve.compute(predictions=predictions, references=references)"
      ]
    },
    {
      "cell_type": "code",
      "execution_count": 35,
      "metadata": {
        "colab": {
          "base_uri": "https://localhost:8080/"
        },
        "id": "UfrZg47OeOYZ",
        "outputId": "965dcb89-7aff-4bb0-8924-016e7d5b3a7b"
      },
      "outputs": [
        {
          "name": "stdout",
          "output_type": "stream",
          "text": [
            "a good wife was there of beside bath,\n",
            "in all the parish wife was there none,\n",
            "that she was out of alle charity\n",
            "that on the sunday were upon her head.\n",
            "her hosen weren of fine scarlet red,\n",
            "she was a worthy woman all her live,\n"
          ]
        },
        {
          "name": "stderr",
          "output_type": "stream",
          "text": [
            "<ipython-input-35-c6ed8a339b26>:3: VisibleDeprecationWarning: Creating an ndarray from ragged nested sequences (which is a list-or-tuple of lists-or-tuples-or ndarrays with different lengths or shapes) is deprecated. If you meant to do this, you must specify 'dtype=object' when creating the ndarray.\n",
            "  sample_val_input_ids = np.random.choice(val_dataset, size=NUM_SAMPLES, replace=False)\n"
          ]
        }
      ],
      "source": [
        "NUM_SAMPLES = 1000\n",
        "\n",
        "sample_val_input_ids = np.random.choice(val_dataset, size=NUM_SAMPLES, replace=False)\n",
        "sample_val_texts = tokenizer.decode_batch(sample_val_input_ids)\n",
        "print(sample_val_texts[0])"
      ]
    },
    {
      "cell_type": "code",
      "execution_count": null,
      "metadata": {
        "colab": {
          "base_uri": "https://localhost:8080/"
        },
        "id": "7AiaUuh8e-eT",
        "outputId": "355761df-22ee-4449-94c1-60b13812fb23"
      },
      "outputs": [
        {
          "name": "stderr",
          "output_type": "stream",
          "text": [
            " 83%|████████▎ | 828/1000 [05:30<01:23,  2.06it/s]"
          ]
        }
      ],
      "source": [
        "top_k_texts = {}\n",
        "nucleus_texts = {}\n",
        "ks = [10, 20, 50, 100]\n",
        "ps = [0.1, 0.5, 0.9, 0.95]\n",
        "\n",
        "for k in ks:\n",
        "    current_top_k_texts = []\n",
        "    for _ in tqdm(range(NUM_SAMPLES)):\n",
        "        start_ids = [SOS_id]\n",
        "\n",
        "        sample_ids = top_k_generate(model, start_ids, 100, EOS_id, k)\n",
        "\n",
        "        sent = tokenizer.decode(sample_ids[1:])\n",
        "\n",
        "        current_top_k_texts.append(sent)\n",
        "    top_k_texts[k] = current_top_k_texts\n",
        "\n",
        "for p in ps:\n",
        "    current_nucleus_texts = []\n",
        "    for _ in tqdm(range(NUM_SAMPLES)):\n",
        "        start_ids = [SOS_id]\n",
        "\n",
        "        sample_ids = nucleus_sampling_generate(model, start_ids, 100, EOS_id, p)\n",
        "\n",
        "        sent = tokenizer.decode(sample_ids[1:])\n",
        "\n",
        "        current_nucleus_texts.append(sent)\n",
        "    nucleus_texts[p] = current_nucleus_texts"
      ]
    },
    {
      "cell_type": "code",
      "execution_count": 29,
      "metadata": {
        "colab": {
          "base_uri": "https://localhost:8080/",
          "height": 423,
          "referenced_widgets": [
            "a51329ae81e54fc08fd4f0e60ec1d9ba",
            "860310bfc47c496fbcdd4e3897932bf4",
            "1d2e013d895a4251a5970dd59a23d043",
            "a733c3d5cbc7491883b46046ac7a53d8",
            "62ac47d24bb5412ab3bc71422641af54",
            "b23f7f8351624ffa87b1c3ef72c55e2f",
            "d7d7504e82b44de4a0fec9c9e7e2bf9b",
            "4da39a9c93704458908d60cf0b87d6fc",
            "dfeb3a877d0f4c2da9cc60f5f3a5f01e",
            "4a3383f91d364be9a0fdbb763c984205",
            "5fef9f1f15e3479598796599e8cbcb02",
            "7f40c6315e2e4b2e9e70690563cf496d",
            "97505123ae7c4e25ab1de3ccb02f1fed",
            "cb7d1171b0d142028c940a318eb569be",
            "269fc971686f4b4c847aa703006b25ff",
            "9e0c874fe8a946d4ad6ab54645c11dac",
            "a3844d23045d4b9981d6597b2cd9735d",
            "fbfa6e8698d246b6a65e89a4d743eeba",
            "f40c7489759b4521b5b751212dd86a09",
            "8805f35301014a6592415cb881107f3e",
            "c82e89c4b16b4308b22d282df1ee35bd",
            "fc478972b63f4fb4908da05614c99041",
            "f962417c5aba43e0a7e7d2b25ce0062a",
            "d96c60a5c2b949209691028b1b3d02ce",
            "17fa6f9656364087aca1c4ae428bae00",
            "90fd56ce917c4753acee60f750e4c244",
            "0865bb2e1c1c40d8ab753116f02c253a",
            "378a4bf1ac9d4b598e340216f42dfa3f",
            "9937211a58914388a6267a1d53b3b182",
            "a2014ec33d484e82b80f6ae52127b1cc",
            "81f1d5f6f2f34625b9fd91c45d52bdaa",
            "051e154140614d5a877214a57456aeae",
            "b15342c3a6ee4d53b00c02caf788ded4",
            "578393b58f964c2fa413964c9ed2c7f7",
            "6a468bc3efe9486980836f616ebeb7c2",
            "9969f8a30e4a450396faf6fd06d8305f",
            "237e43278de945d8ad1dedaa05e6dc23",
            "da4a2e289ced4eaa9533a0da14bd0b0b",
            "aa355144f9bf47c68d0bf86bc9415d26",
            "3e5c5339c0ce42049ce81ed3b65a299e",
            "536d712335cc4f94854b56c3250de777",
            "3678e35325554955aa4ac2c399f0c0fc",
            "14c1b62479e44058a4a37eb75acd5a19",
            "28890b60fe424cff866618b18e974f53"
          ]
        },
        "id": "E2CByuRYgo35",
        "outputId": "ac4325c6-f81b-4c63-818d-ebecc1038c43"
      },
      "outputs": [
        {
          "name": "stdout",
          "output_type": "stream",
          "text": [
            "Tokenizing text...\n",
            "Featurizing tokens\n"
          ]
        },
        {
          "data": {
            "application/vnd.jupyter.widget-view+json": {
              "model_id": "a51329ae81e54fc08fd4f0e60ec1d9ba",
              "version_major": 2,
              "version_minor": 0
            },
            "text/plain": [
              "Featurizing p:   0%|          | 0/1000 [00:00<?, ?it/s]"
            ]
          },
          "metadata": {},
          "output_type": "display_data"
        },
        {
          "name": "stdout",
          "output_type": "stream",
          "text": [
            "Tokenizing text...\n",
            "Featurizing tokens\n"
          ]
        },
        {
          "data": {
            "application/vnd.jupyter.widget-view+json": {
              "model_id": "7f40c6315e2e4b2e9e70690563cf496d",
              "version_major": 2,
              "version_minor": 0
            },
            "text/plain": [
              "Featurizing q:   0%|          | 0/1000 [00:00<?, ?it/s]"
            ]
          },
          "metadata": {},
          "output_type": "display_data"
        },
        {
          "name": "stdout",
          "output_type": "stream",
          "text": [
            "seed = 25\n",
            "performing clustering in lower dimension = 282\n",
            "kmeans time: 7.41 s\n",
            "total discretization time: 9.37 seconds\n",
            "Tokenizing text...\n",
            "Featurizing tokens\n"
          ]
        },
        {
          "data": {
            "application/vnd.jupyter.widget-view+json": {
              "model_id": "f962417c5aba43e0a7e7d2b25ce0062a",
              "version_major": 2,
              "version_minor": 0
            },
            "text/plain": [
              "Featurizing p:   0%|          | 0/1000 [00:00<?, ?it/s]"
            ]
          },
          "metadata": {},
          "output_type": "display_data"
        },
        {
          "name": "stdout",
          "output_type": "stream",
          "text": [
            "Tokenizing text...\n",
            "Featurizing tokens\n"
          ]
        },
        {
          "data": {
            "application/vnd.jupyter.widget-view+json": {
              "model_id": "578393b58f964c2fa413964c9ed2c7f7",
              "version_major": 2,
              "version_minor": 0
            },
            "text/plain": [
              "Featurizing q:   0%|          | 0/1000 [00:00<?, ?it/s]"
            ]
          },
          "metadata": {},
          "output_type": "display_data"
        },
        {
          "name": "stdout",
          "output_type": "stream",
          "text": [
            "seed = 25\n",
            "performing clustering in lower dimension = 284\n",
            "kmeans time: 8.96 s\n",
            "total discretization time: 10.26 seconds\n"
          ]
        }
      ],
      "source": [
        "top_k_mauve = mauve.compute(predictions=top_k_texts, \n",
        "                            references=sample_val_texts,\n",
        "                            device_id=0)\n",
        "nucleus_mauve = mauve.compute(predictions=nucleus_texts,\n",
        "                              references=sample_val_texts,\n",
        "                              device_id=0)"
      ]
    },
    {
      "cell_type": "code",
      "execution_count": 30,
      "metadata": {
        "colab": {
          "base_uri": "https://localhost:8080/"
        },
        "id": "qBZoVak3NiRh",
        "outputId": "4958cffe-bb6a-4f11-c589-621d0d7fdc6f"
      },
      "outputs": [
        {
          "name": "stdout",
          "output_type": "stream",
          "text": [
            "TOP-k MAUVE: 0.5508828292646972\n",
            "Nucleus sampling MAUVE: 0.747546588084287\n"
          ]
        }
      ],
      "source": []
    },
    {
      "cell_type": "markdown",
      "metadata": {
        "id": "9eFI4nrN--33"
      },
      "source": [
        "# Задание 3"
      ]
    },
    {
      "cell_type": "markdown",
      "metadata": {
        "id": "cLtX3sW-A_-M"
      },
      "source": [
        "Скачайте датасет https://mydata.biz/storage/download/ebcdfe6fb2d546398010e0d6564a79bb/names.zip. Он содержит список имён и фамилий в формате csv. Обработайте данные.\n",
        "\n",
        "Выберите параметры модели, подходящие для задачи (в том числе параметры токенизации).\n",
        "\n",
        "Обучите модель, сгенерируйте несколько новых примеров, оцените их качество (глазами)."
      ]
    },
    {
      "cell_type": "code",
      "execution_count": 49,
      "metadata": {},
      "outputs": [],
      "source": [
        "import pandas as pd\n",
        "from sklearn.model_selection import train_test_split\n",
        "from torch.utils.data import Dataset, DataLoader\n",
        "from tokenizers import ByteLevelBPETokenizer\n",
        "\n",
        "TOKENIZERS_PARALLELISM = False"
      ]
    },
    {
      "cell_type": "code",
      "execution_count": 16,
      "metadata": {
        "id": "FhUVWQ_rhmiK"
      },
      "outputs": [
        {
          "name": "stdout",
          "output_type": "stream",
          "text": [
            "huggingface/tokenizers: The current process just got forked, after parallelism has already been used. Disabling parallelism to avoid deadlocks...\n",
            "To disable this warning, you can either:\n",
            "\t- Avoid using `tokenizers` before the fork if possible\n",
            "\t- Explicitly set the environment variable TOKENIZERS_PARALLELISM=(true | false)\n",
            "Archive:  names.zip\n",
            "  inflating: ./data/_readme.txt      \n",
            "  inflating: ./data/foreign_names.csv  \n",
            "  inflating: ./data/russian_names.csv  \n",
            "  inflating: ./data/russian_surnames.csv  \n"
          ]
        }
      ],
      "source": [
        "!curl https://mydata.biz/storage/download/ebcdfe6fb2d546398010e0d6564a79bb/names.zip --output names.zip\n",
        "!unzip names.zip -d ./data"
      ]
    },
    {
      "cell_type": "code",
      "execution_count": 51,
      "metadata": {},
      "outputs": [],
      "source": [
        "russian_names = pd.read_csv(\"./data/russian_names.csv\", sep=';', usecols=[\"Name\"])\n",
        "russian_surnames = pd.read_csv(\"./data/russian_surnames.csv\", sep=';', usecols=[\"Surname\"])\n",
        "foreign_names = pd.read_csv(\"./data/foreign_names.csv\", sep=';', usecols=[\"name\"])\n",
        "\n",
        "russian_names.columns = [\"name\"]\n",
        "russian_surnames.columns = [\"name\"]\n",
        "foreign_names.columns = [\"name\"]\n",
        "\n",
        "russian_names = russian_names[\"name\"]\n",
        "russian_surnames = russian_surnames[\"name\"]\n",
        "foreign_names = foreign_names[\"name\"]"
      ]
    },
    {
      "cell_type": "code",
      "execution_count": 52,
      "metadata": {},
      "outputs": [
        {
          "data": {
            "text/plain": [
              "39199     Далигост\n",
              "48045      Табарак\n",
              "33187        Рашид\n",
              "16314    Калипатра\n",
              "20277      Сабинка\n",
              "Name: name, dtype: object"
            ]
          },
          "metadata": {},
          "output_type": "display_data"
        },
        {
          "data": {
            "text/plain": [
              "236400    Семишкурный\n",
              "70          Абакарова\n",
              "26316       Беришейко\n",
              "128513     Корниленко\n",
              "285417     Хрюковский\n",
              "Name: name, dtype: object"
            ]
          },
          "metadata": {},
          "output_type": "display_data"
        },
        {
          "data": {
            "text/plain": [
              "15365    Lambert\n",
              "13912      Kacee\n",
              "3419       Batya\n",
              "19631    Orianna\n",
              "18064       Misk\n",
              "Name: name, dtype: object"
            ]
          },
          "metadata": {},
          "output_type": "display_data"
        }
      ],
      "source": [
        "display(russian_names.sample(5))\n",
        "display(russian_surnames.sample(5))\n",
        "display(foreign_names.sample(5))"
      ]
    },
    {
      "cell_type": "code",
      "execution_count": 53,
      "metadata": {},
      "outputs": [],
      "source": [
        "VAL_SIZE = 0.2\n",
        "\n",
        "names_data = pd.concat([russian_names, russian_surnames, foreign_names], ignore_index=True)\n",
        "\n",
        "train_names_data, val_names_data = train_test_split(names_data, test_size=VAL_SIZE)"
      ]
    },
    {
      "cell_type": "code",
      "execution_count": 71,
      "metadata": {},
      "outputs": [],
      "source": [
        "class NamesDataset(Dataset):\n",
        "    def __init__(self, data, tokenizer):\n",
        "        self.data = data\n",
        "        self.tokenizer = tokenizer\n",
        "\n",
        "    \n",
        "    def __len__(self):\n",
        "        return len(self.data)\n",
        "\n",
        "    \n",
        "    def __getitem__(self, idx):\n",
        "        name = self.data.iloc[idx]\n",
        "\n",
        "        tokenized = self.tokenizer.encode(\"[SOS]\" + name + \"[EOS]\")\n",
        "\n",
        "        return tokenized.ids"
      ]
    },
    {
      "cell_type": "code",
      "execution_count": 72,
      "metadata": {},
      "outputs": [
        {
          "name": "stdout",
          "output_type": "stream",
          "text": [
            "\n",
            "\n",
            "\n"
          ]
        }
      ],
      "source": [
        "vocab_size = 300\n",
        "tokenizer = ByteLevelBPETokenizer(dropout=0.1, lowercase=False)\n",
        "\n",
        "tokenizer.train_from_iterator(names_data, vocab_size=vocab_size)\n",
        "tokenizer.add_special_tokens([\"[SOS]\", \"[EOS]\", \"[PAD]\"])\n",
        "\n",
        "SOS_id = tokenizer.token_to_id(\"[SOS]\")\n",
        "EOS_id = tokenizer.token_to_id(\"[EOS]\")\n",
        "PAD_id = tokenizer.token_to_id(\"[PAD]\")"
      ]
    },
    {
      "cell_type": "code",
      "execution_count": 78,
      "metadata": {},
      "outputs": [
        {
          "data": {
            "text/plain": [
              "([300, 140, 249, 267, 294, 267, 265, 261, 279, 278, 301],\n",
              " [300, 140, 244, 267, 274, 256, 291, 264, 301])"
            ]
          },
          "execution_count": 78,
          "metadata": {},
          "output_type": "execute_result"
        }
      ],
      "source": [
        "train_dataset = NamesDataset(train_names_data, tokenizer)\n",
        "val_dataset = NamesDataset(val_names_data, tokenizer)\n",
        "\n",
        "train_dataset[4], val_dataset[10]"
      ]
    },
    {
      "cell_type": "code",
      "execution_count": 81,
      "metadata": {},
      "outputs": [],
      "source": [
        "from torch.utils.data import DataLoader\n",
        "from functools import partial\n",
        "\n",
        "device = torch.device(\"cuda\" if torch.cuda.is_available() else \"cpu\")\n",
        "\n",
        "vocab_size = tokenizer.get_vocab_size()\n",
        "hidden_size = 128\n",
        "n_layers = 5\n",
        "n_heads = 8\n",
        "dropout = 0.1\n",
        "\n",
        "batch_size = 128\n",
        "epochs = 1\n",
        "\n",
        "model = Model(vocab_size, hidden_size, n_heads, n_layers, dropout).to(device)\n",
        "\n",
        "train_loader = DataLoader(\n",
        "    train_dataset\n",
        "    , batch_size=batch_size\n",
        "    , shuffle=True\n",
        "    , collate_fn=partial(collate_fn_lm, PAD_id)\n",
        ")\n",
        "\n",
        "val_loader = DataLoader(\n",
        "    val_dataset\n",
        "    , batch_size=batch_size\n",
        "    , shuffle=False\n",
        "    , collate_fn=partial(collate_fn_lm, PAD_id)\n",
        "    , drop_last=True\n",
        ")\n",
        "\n",
        "criterion = nn.CrossEntropyLoss(reduction='none')\n",
        "lr = 3e-4\n",
        "optimizer = torch.optim.Adam(model.parameters(), lr=lr)"
      ]
    },
    {
      "cell_type": "code",
      "execution_count": 84,
      "metadata": {},
      "outputs": [
        {
          "name": "stderr",
          "output_type": "stream",
          "text": [
            "  5%|▍         | 115/2475 [00:05<03:02, 12.92it/s]"
          ]
        },
        {
          "name": "stdout",
          "output_type": "stream",
          "text": [
            "Val loss: 2.63\n"
          ]
        },
        {
          "name": "stderr",
          "output_type": "stream",
          "text": [
            "  8%|▊         | 210/2475 [00:13<06:24,  5.89it/s]"
          ]
        },
        {
          "name": "stdout",
          "output_type": "stream",
          "text": [
            "Val loss: 2.30\n"
          ]
        },
        {
          "name": "stderr",
          "output_type": "stream",
          "text": [
            " 13%|█▎        | 314/2475 [00:17<02:50, 12.71it/s]"
          ]
        },
        {
          "name": "stdout",
          "output_type": "stream",
          "text": [
            "Val loss: 2.22\n"
          ]
        },
        {
          "name": "stderr",
          "output_type": "stream",
          "text": [
            " 17%|█▋        | 411/2475 [00:21<02:48, 12.24it/s]"
          ]
        },
        {
          "name": "stdout",
          "output_type": "stream",
          "text": [
            "Val loss: 2.17\n"
          ]
        },
        {
          "name": "stderr",
          "output_type": "stream",
          "text": [
            " 21%|██        | 510/2475 [00:25<02:43, 12.04it/s]"
          ]
        },
        {
          "name": "stdout",
          "output_type": "stream",
          "text": [
            "Val loss: 2.15\n"
          ]
        },
        {
          "name": "stderr",
          "output_type": "stream",
          "text": [
            " 25%|██▍       | 610/2475 [00:29<02:28, 12.54it/s]"
          ]
        },
        {
          "name": "stdout",
          "output_type": "stream",
          "text": [
            "Val loss: 2.12\n"
          ]
        },
        {
          "name": "stderr",
          "output_type": "stream",
          "text": [
            " 29%|██▉       | 715/2475 [00:35<03:30,  8.35it/s]"
          ]
        },
        {
          "name": "stdout",
          "output_type": "stream",
          "text": [
            "Val loss: 2.10\n"
          ]
        },
        {
          "name": "stderr",
          "output_type": "stream",
          "text": [
            " 33%|███▎      | 817/2475 [00:40<02:14, 12.36it/s]"
          ]
        },
        {
          "name": "stdout",
          "output_type": "stream",
          "text": [
            "Val loss: 2.09\n"
          ]
        },
        {
          "name": "stderr",
          "output_type": "stream",
          "text": [
            " 37%|███▋      | 908/2475 [00:44<02:45,  9.48it/s]"
          ]
        },
        {
          "name": "stdout",
          "output_type": "stream",
          "text": [
            "Val loss: 2.08\n"
          ]
        },
        {
          "name": "stderr",
          "output_type": "stream",
          "text": [
            " 41%|████      | 1008/2475 [00:49<02:06, 11.60it/s]"
          ]
        },
        {
          "name": "stdout",
          "output_type": "stream",
          "text": [
            "Val loss: 2.07\n"
          ]
        },
        {
          "name": "stderr",
          "output_type": "stream",
          "text": [
            " 45%|████▍     | 1110/2475 [00:53<02:02, 11.14it/s]"
          ]
        },
        {
          "name": "stdout",
          "output_type": "stream",
          "text": [
            "Val loss: 2.06\n"
          ]
        },
        {
          "name": "stderr",
          "output_type": "stream",
          "text": [
            " 49%|████▉     | 1209/2475 [00:57<01:44, 12.17it/s]"
          ]
        },
        {
          "name": "stdout",
          "output_type": "stream",
          "text": [
            "Val loss: 2.06\n"
          ]
        },
        {
          "name": "stderr",
          "output_type": "stream",
          "text": [
            " 53%|█████▎    | 1311/2475 [01:02<01:44, 11.18it/s]"
          ]
        },
        {
          "name": "stdout",
          "output_type": "stream",
          "text": [
            "Val loss: 2.05\n"
          ]
        },
        {
          "name": "stderr",
          "output_type": "stream",
          "text": [
            " 57%|█████▋    | 1416/2475 [01:08<02:14,  7.85it/s]"
          ]
        },
        {
          "name": "stdout",
          "output_type": "stream",
          "text": [
            "Val loss: 2.05\n"
          ]
        },
        {
          "name": "stderr",
          "output_type": "stream",
          "text": [
            " 61%|██████    | 1512/2475 [01:13<01:55,  8.32it/s]"
          ]
        },
        {
          "name": "stdout",
          "output_type": "stream",
          "text": [
            "Val loss: 2.04\n"
          ]
        },
        {
          "name": "stderr",
          "output_type": "stream",
          "text": [
            " 65%|██████▌   | 1610/2475 [01:17<01:15, 11.51it/s]"
          ]
        },
        {
          "name": "stdout",
          "output_type": "stream",
          "text": [
            "Val loss: 2.04\n"
          ]
        },
        {
          "name": "stderr",
          "output_type": "stream",
          "text": [
            " 69%|██████▉   | 1713/2475 [01:21<01:02, 12.14it/s]"
          ]
        },
        {
          "name": "stdout",
          "output_type": "stream",
          "text": [
            "Val loss: 2.03\n"
          ]
        },
        {
          "name": "stderr",
          "output_type": "stream",
          "text": [
            " 73%|███████▎  | 1814/2475 [01:26<01:01, 10.69it/s]"
          ]
        },
        {
          "name": "stdout",
          "output_type": "stream",
          "text": [
            "Val loss: 2.03\n"
          ]
        },
        {
          "name": "stderr",
          "output_type": "stream",
          "text": [
            " 77%|███████▋  | 1912/2475 [01:31<01:05,  8.58it/s]"
          ]
        },
        {
          "name": "stdout",
          "output_type": "stream",
          "text": [
            "Val loss: 2.02\n"
          ]
        },
        {
          "name": "stderr",
          "output_type": "stream",
          "text": [
            " 81%|████████▏ | 2012/2475 [01:35<00:41, 11.23it/s]"
          ]
        },
        {
          "name": "stdout",
          "output_type": "stream",
          "text": [
            "Val loss: 2.02\n"
          ]
        },
        {
          "name": "stderr",
          "output_type": "stream",
          "text": [
            " 85%|████████▌ | 2113/2475 [01:43<01:04,  5.59it/s]"
          ]
        },
        {
          "name": "stdout",
          "output_type": "stream",
          "text": [
            "Val loss: 2.02\n"
          ]
        },
        {
          "name": "stderr",
          "output_type": "stream",
          "text": [
            " 89%|████████▉ | 2209/2475 [01:47<00:24, 10.66it/s]"
          ]
        },
        {
          "name": "stdout",
          "output_type": "stream",
          "text": [
            "Val loss: 2.02\n"
          ]
        },
        {
          "name": "stderr",
          "output_type": "stream",
          "text": [
            " 93%|█████████▎| 2309/2475 [01:51<00:15, 10.88it/s]"
          ]
        },
        {
          "name": "stdout",
          "output_type": "stream",
          "text": [
            "Val loss: 2.01\n"
          ]
        },
        {
          "name": "stderr",
          "output_type": "stream",
          "text": [
            " 97%|█████████▋| 2411/2475 [01:56<00:06, 10.66it/s]"
          ]
        },
        {
          "name": "stdout",
          "output_type": "stream",
          "text": [
            "Val loss: 2.01\n"
          ]
        },
        {
          "name": "stderr",
          "output_type": "stream",
          "text": [
            "100%|██████████| 2475/2475 [01:57<00:00, 21.08it/s]"
          ]
        },
        {
          "name": "stdout",
          "output_type": "stream",
          "text": [
            "OK\n"
          ]
        },
        {
          "name": "stderr",
          "output_type": "stream",
          "text": [
            "\n"
          ]
        }
      ],
      "source": [
        "trained = False\n",
        "\n",
        "if trained:\n",
        "    model = torch.load(\"names_decoder.pt\").to(device)\n",
        "else:\n",
        "    model = train(model, train_loader, val_loader, epochs)\n",
        "    torch.save(model, \"names_decoder.pt\")\n",
        "\n",
        "model.eval()\n",
        "\n",
        "print(\"OK\")"
      ]
    },
    {
      "cell_type": "code",
      "execution_count": 161,
      "metadata": {},
      "outputs": [
        {
          "name": "stdout",
          "output_type": "stream",
          "text": [
            "Cotuittia\n"
          ]
        }
      ],
      "source": [
        "start_ids = tokenizer.encode(\"[SOS]Co\").ids\n",
        "\n",
        "sample_ids = nucleus_sampling_generate(model, start_ids, 30, EOS_id, 0.9)\n",
        "\n",
        "sent = tokenizer.decode(sample_ids[1:])\n",
        "\n",
        "print(sent)"
      ]
    },
    {
      "cell_type": "code",
      "execution_count": 147,
      "metadata": {},
      "outputs": [
        {
          "data": {
            "text/plain": [
              "True"
            ]
          },
          "execution_count": 147,
          "metadata": {},
          "output_type": "execute_result"
        }
      ],
      "source": [
        "(names_data == \"Лагушина\").any()"
      ]
    }
  ],
  "metadata": {
    "accelerator": "GPU",
    "colab": {
      "provenance": []
    },
    "kernelspec": {
      "display_name": "base",
      "language": "python",
      "name": "python3"
    },
    "language_info": {
      "codemirror_mode": {
        "name": "ipython",
        "version": 3
      },
      "file_extension": ".py",
      "mimetype": "text/x-python",
      "name": "python",
      "nbconvert_exporter": "python",
      "pygments_lexer": "ipython3",
      "version": "3.9.13"
    },
    "vscode": {
      "interpreter": {
        "hash": "d2bcc2871cf5df85c6374b42efee4a5327c41999e7650b89ae60a0280f381544"
      }
    },
    "widgets": {
      "application/vnd.jupyter.widget-state+json": {
        "014a4e5abcc143069dee1ebe572b9996": {
          "model_module": "@jupyter-widgets/controls",
          "model_module_version": "1.5.0",
          "model_name": "DescriptionStyleModel",
          "state": {
            "_model_module": "@jupyter-widgets/controls",
            "_model_module_version": "1.5.0",
            "_model_name": "DescriptionStyleModel",
            "_view_count": null,
            "_view_module": "@jupyter-widgets/base",
            "_view_module_version": "1.2.0",
            "_view_name": "StyleView",
            "description_width": ""
          }
        },
        "051e154140614d5a877214a57456aeae": {
          "model_module": "@jupyter-widgets/base",
          "model_module_version": "1.2.0",
          "model_name": "LayoutModel",
          "state": {
            "_model_module": "@jupyter-widgets/base",
            "_model_module_version": "1.2.0",
            "_model_name": "LayoutModel",
            "_view_count": null,
            "_view_module": "@jupyter-widgets/base",
            "_view_module_version": "1.2.0",
            "_view_name": "LayoutView",
            "align_content": null,
            "align_items": null,
            "align_self": null,
            "border": null,
            "bottom": null,
            "display": null,
            "flex": null,
            "flex_flow": null,
            "grid_area": null,
            "grid_auto_columns": null,
            "grid_auto_flow": null,
            "grid_auto_rows": null,
            "grid_column": null,
            "grid_gap": null,
            "grid_row": null,
            "grid_template_areas": null,
            "grid_template_columns": null,
            "grid_template_rows": null,
            "height": null,
            "justify_content": null,
            "justify_items": null,
            "left": null,
            "margin": null,
            "max_height": null,
            "max_width": null,
            "min_height": null,
            "min_width": null,
            "object_fit": null,
            "object_position": null,
            "order": null,
            "overflow": null,
            "overflow_x": null,
            "overflow_y": null,
            "padding": null,
            "right": null,
            "top": null,
            "visibility": null,
            "width": null
          }
        },
        "065edaa751e246388f52f5fcfbc5a86e": {
          "model_module": "@jupyter-widgets/controls",
          "model_module_version": "1.5.0",
          "model_name": "HBoxModel",
          "state": {
            "_dom_classes": [],
            "_model_module": "@jupyter-widgets/controls",
            "_model_module_version": "1.5.0",
            "_model_name": "HBoxModel",
            "_view_count": null,
            "_view_module": "@jupyter-widgets/controls",
            "_view_module_version": "1.5.0",
            "_view_name": "HBoxView",
            "box_style": "",
            "children": [
              "IPY_MODEL_1ca5d4476f6a484ab9cc5b014aa4c87d",
              "IPY_MODEL_fb2911c2624448f5adaa6d1baaaeeea1",
              "IPY_MODEL_9ff5c6a7619646f5b72393de2758110f"
            ],
            "layout": "IPY_MODEL_e19c0a343947409db291c9cd5afeb626"
          }
        },
        "0865bb2e1c1c40d8ab753116f02c253a": {
          "model_module": "@jupyter-widgets/base",
          "model_module_version": "1.2.0",
          "model_name": "LayoutModel",
          "state": {
            "_model_module": "@jupyter-widgets/base",
            "_model_module_version": "1.2.0",
            "_model_name": "LayoutModel",
            "_view_count": null,
            "_view_module": "@jupyter-widgets/base",
            "_view_module_version": "1.2.0",
            "_view_name": "LayoutView",
            "align_content": null,
            "align_items": null,
            "align_self": null,
            "border": null,
            "bottom": null,
            "display": null,
            "flex": null,
            "flex_flow": null,
            "grid_area": null,
            "grid_auto_columns": null,
            "grid_auto_flow": null,
            "grid_auto_rows": null,
            "grid_column": null,
            "grid_gap": null,
            "grid_row": null,
            "grid_template_areas": null,
            "grid_template_columns": null,
            "grid_template_rows": null,
            "height": null,
            "justify_content": null,
            "justify_items": null,
            "left": null,
            "margin": null,
            "max_height": null,
            "max_width": null,
            "min_height": null,
            "min_width": null,
            "object_fit": null,
            "object_position": null,
            "order": null,
            "overflow": null,
            "overflow_x": null,
            "overflow_y": null,
            "padding": null,
            "right": null,
            "top": null,
            "visibility": null,
            "width": null
          }
        },
        "08bf1a594fe048ec9c7203e5af326e42": {
          "model_module": "@jupyter-widgets/controls",
          "model_module_version": "1.5.0",
          "model_name": "ProgressStyleModel",
          "state": {
            "_model_module": "@jupyter-widgets/controls",
            "_model_module_version": "1.5.0",
            "_model_name": "ProgressStyleModel",
            "_view_count": null,
            "_view_module": "@jupyter-widgets/base",
            "_view_module_version": "1.2.0",
            "_view_name": "StyleView",
            "bar_color": null,
            "description_width": ""
          }
        },
        "0acb9a1cfc424de8a3bd20701b8b1c97": {
          "model_module": "@jupyter-widgets/controls",
          "model_module_version": "1.5.0",
          "model_name": "HBoxModel",
          "state": {
            "_dom_classes": [],
            "_model_module": "@jupyter-widgets/controls",
            "_model_module_version": "1.5.0",
            "_model_name": "HBoxModel",
            "_view_count": null,
            "_view_module": "@jupyter-widgets/controls",
            "_view_module_version": "1.5.0",
            "_view_name": "HBoxView",
            "box_style": "",
            "children": [
              "IPY_MODEL_8befc5621af148ecaeee1662ea34d385",
              "IPY_MODEL_bcdb8b84ebb2434898beb5187823336a",
              "IPY_MODEL_0ca7213a2efb406f82a93358830203b2"
            ],
            "layout": "IPY_MODEL_cbc8625232c8490491735722b96e6641"
          }
        },
        "0c6e01b319ca45a39dfd200094f90639": {
          "model_module": "@jupyter-widgets/controls",
          "model_module_version": "1.5.0",
          "model_name": "FloatProgressModel",
          "state": {
            "_dom_classes": [],
            "_model_module": "@jupyter-widgets/controls",
            "_model_module_version": "1.5.0",
            "_model_name": "FloatProgressModel",
            "_view_count": null,
            "_view_module": "@jupyter-widgets/controls",
            "_view_module_version": "1.5.0",
            "_view_name": "ProgressView",
            "bar_style": "success",
            "description": "",
            "description_tooltip": null,
            "layout": "IPY_MODEL_e55b3366de92435ca91aef0083be29dc",
            "max": 666,
            "min": 0,
            "orientation": "horizontal",
            "style": "IPY_MODEL_08bf1a594fe048ec9c7203e5af326e42",
            "value": 666
          }
        },
        "0ca7213a2efb406f82a93358830203b2": {
          "model_module": "@jupyter-widgets/controls",
          "model_module_version": "1.5.0",
          "model_name": "HTMLModel",
          "state": {
            "_dom_classes": [],
            "_model_module": "@jupyter-widgets/controls",
            "_model_module_version": "1.5.0",
            "_model_name": "HTMLModel",
            "_view_count": null,
            "_view_module": "@jupyter-widgets/controls",
            "_view_module_version": "1.5.0",
            "_view_name": "HTMLView",
            "description": "",
            "description_tooltip": null,
            "layout": "IPY_MODEL_1c2cb3c52e074bf98733a158fbe465ef",
            "placeholder": "​",
            "style": "IPY_MODEL_4f11c38bedff462293bdbbf8e0be4ca9",
            "value": " 456k/456k [00:00&lt;00:00, 3.08MB/s]"
          }
        },
        "0f44514ecbad4ffcbe0a1331b0c72293": {
          "model_module": "@jupyter-widgets/controls",
          "model_module_version": "1.5.0",
          "model_name": "DescriptionStyleModel",
          "state": {
            "_model_module": "@jupyter-widgets/controls",
            "_model_module_version": "1.5.0",
            "_model_name": "DescriptionStyleModel",
            "_view_count": null,
            "_view_module": "@jupyter-widgets/base",
            "_view_module_version": "1.2.0",
            "_view_name": "StyleView",
            "description_width": ""
          }
        },
        "1083ca6b41f445e5b2e8ab62dc8c8c6f": {
          "model_module": "@jupyter-widgets/controls",
          "model_module_version": "1.5.0",
          "model_name": "HBoxModel",
          "state": {
            "_dom_classes": [],
            "_model_module": "@jupyter-widgets/controls",
            "_model_module_version": "1.5.0",
            "_model_name": "HBoxModel",
            "_view_count": null,
            "_view_module": "@jupyter-widgets/controls",
            "_view_module_version": "1.5.0",
            "_view_name": "HBoxView",
            "box_style": "",
            "children": [
              "IPY_MODEL_2684ef7875fc49e3b35a962ccfc49f81",
              "IPY_MODEL_0c6e01b319ca45a39dfd200094f90639",
              "IPY_MODEL_3209cba4de9847e3aeef3e1f7823c26a"
            ],
            "layout": "IPY_MODEL_23e80304dc634dee88bfc24478c8a763"
          }
        },
        "12c6bf23cd314271ae651b3bb8b7ba27": {
          "model_module": "@jupyter-widgets/controls",
          "model_module_version": "1.5.0",
          "model_name": "HBoxModel",
          "state": {
            "_dom_classes": [],
            "_model_module": "@jupyter-widgets/controls",
            "_model_module_version": "1.5.0",
            "_model_name": "HBoxModel",
            "_view_count": null,
            "_view_module": "@jupyter-widgets/controls",
            "_view_module_version": "1.5.0",
            "_view_name": "HBoxView",
            "box_style": "",
            "children": [
              "IPY_MODEL_d9fe575dac934ff88c8422145ec0daf8",
              "IPY_MODEL_dd219017c5d04517a2e6d4286d2e0f06",
              "IPY_MODEL_f7826425bb1b45ffbee6d85164048070"
            ],
            "layout": "IPY_MODEL_7f3896d1ca024df1ba352020af744c24"
          }
        },
        "1369193be9114d8392a43b292c404854": {
          "model_module": "@jupyter-widgets/controls",
          "model_module_version": "1.5.0",
          "model_name": "DescriptionStyleModel",
          "state": {
            "_model_module": "@jupyter-widgets/controls",
            "_model_module_version": "1.5.0",
            "_model_name": "DescriptionStyleModel",
            "_view_count": null,
            "_view_module": "@jupyter-widgets/base",
            "_view_module_version": "1.2.0",
            "_view_name": "StyleView",
            "description_width": ""
          }
        },
        "14a76acd024e4f97b35aca49f85af98e": {
          "model_module": "@jupyter-widgets/base",
          "model_module_version": "1.2.0",
          "model_name": "LayoutModel",
          "state": {
            "_model_module": "@jupyter-widgets/base",
            "_model_module_version": "1.2.0",
            "_model_name": "LayoutModel",
            "_view_count": null,
            "_view_module": "@jupyter-widgets/base",
            "_view_module_version": "1.2.0",
            "_view_name": "LayoutView",
            "align_content": null,
            "align_items": null,
            "align_self": null,
            "border": null,
            "bottom": null,
            "display": null,
            "flex": null,
            "flex_flow": null,
            "grid_area": null,
            "grid_auto_columns": null,
            "grid_auto_flow": null,
            "grid_auto_rows": null,
            "grid_column": null,
            "grid_gap": null,
            "grid_row": null,
            "grid_template_areas": null,
            "grid_template_columns": null,
            "grid_template_rows": null,
            "height": null,
            "justify_content": null,
            "justify_items": null,
            "left": null,
            "margin": null,
            "max_height": null,
            "max_width": null,
            "min_height": null,
            "min_width": null,
            "object_fit": null,
            "object_position": null,
            "order": null,
            "overflow": null,
            "overflow_x": null,
            "overflow_y": null,
            "padding": null,
            "right": null,
            "top": null,
            "visibility": null,
            "width": null
          }
        },
        "14c1b62479e44058a4a37eb75acd5a19": {
          "model_module": "@jupyter-widgets/base",
          "model_module_version": "1.2.0",
          "model_name": "LayoutModel",
          "state": {
            "_model_module": "@jupyter-widgets/base",
            "_model_module_version": "1.2.0",
            "_model_name": "LayoutModel",
            "_view_count": null,
            "_view_module": "@jupyter-widgets/base",
            "_view_module_version": "1.2.0",
            "_view_name": "LayoutView",
            "align_content": null,
            "align_items": null,
            "align_self": null,
            "border": null,
            "bottom": null,
            "display": null,
            "flex": null,
            "flex_flow": null,
            "grid_area": null,
            "grid_auto_columns": null,
            "grid_auto_flow": null,
            "grid_auto_rows": null,
            "grid_column": null,
            "grid_gap": null,
            "grid_row": null,
            "grid_template_areas": null,
            "grid_template_columns": null,
            "grid_template_rows": null,
            "height": null,
            "justify_content": null,
            "justify_items": null,
            "left": null,
            "margin": null,
            "max_height": null,
            "max_width": null,
            "min_height": null,
            "min_width": null,
            "object_fit": null,
            "object_position": null,
            "order": null,
            "overflow": null,
            "overflow_x": null,
            "overflow_y": null,
            "padding": null,
            "right": null,
            "top": null,
            "visibility": null,
            "width": null
          }
        },
        "17fa6f9656364087aca1c4ae428bae00": {
          "model_module": "@jupyter-widgets/controls",
          "model_module_version": "1.5.0",
          "model_name": "FloatProgressModel",
          "state": {
            "_dom_classes": [],
            "_model_module": "@jupyter-widgets/controls",
            "_model_module_version": "1.5.0",
            "_model_name": "FloatProgressModel",
            "_view_count": null,
            "_view_module": "@jupyter-widgets/controls",
            "_view_module_version": "1.5.0",
            "_view_name": "ProgressView",
            "bar_style": "success",
            "description": "",
            "description_tooltip": null,
            "layout": "IPY_MODEL_a2014ec33d484e82b80f6ae52127b1cc",
            "max": 1000,
            "min": 0,
            "orientation": "horizontal",
            "style": "IPY_MODEL_81f1d5f6f2f34625b9fd91c45d52bdaa",
            "value": 1000
          }
        },
        "195c812a8d544849935bc911b8400820": {
          "model_module": "@jupyter-widgets/controls",
          "model_module_version": "1.5.0",
          "model_name": "DescriptionStyleModel",
          "state": {
            "_model_module": "@jupyter-widgets/controls",
            "_model_module_version": "1.5.0",
            "_model_name": "DescriptionStyleModel",
            "_view_count": null,
            "_view_module": "@jupyter-widgets/base",
            "_view_module_version": "1.2.0",
            "_view_name": "StyleView",
            "description_width": ""
          }
        },
        "1ba2b9e5bac449f5a270e5bf5da0c005": {
          "model_module": "@jupyter-widgets/controls",
          "model_module_version": "1.5.0",
          "model_name": "HTMLModel",
          "state": {
            "_dom_classes": [],
            "_model_module": "@jupyter-widgets/controls",
            "_model_module_version": "1.5.0",
            "_model_name": "HTMLModel",
            "_view_count": null,
            "_view_module": "@jupyter-widgets/controls",
            "_view_module_version": "1.5.0",
            "_view_name": "HTMLView",
            "description": "",
            "description_tooltip": null,
            "layout": "IPY_MODEL_c6b9682b49e445f0899457d2257660f4",
            "placeholder": "​",
            "style": "IPY_MODEL_61eca1f041f74834984b385d08283145",
            "value": " 1.36M/1.36M [00:00&lt;00:00, 6.68MB/s]"
          }
        },
        "1c2cb3c52e074bf98733a158fbe465ef": {
          "model_module": "@jupyter-widgets/base",
          "model_module_version": "1.2.0",
          "model_name": "LayoutModel",
          "state": {
            "_model_module": "@jupyter-widgets/base",
            "_model_module_version": "1.2.0",
            "_model_name": "LayoutModel",
            "_view_count": null,
            "_view_module": "@jupyter-widgets/base",
            "_view_module_version": "1.2.0",
            "_view_name": "LayoutView",
            "align_content": null,
            "align_items": null,
            "align_self": null,
            "border": null,
            "bottom": null,
            "display": null,
            "flex": null,
            "flex_flow": null,
            "grid_area": null,
            "grid_auto_columns": null,
            "grid_auto_flow": null,
            "grid_auto_rows": null,
            "grid_column": null,
            "grid_gap": null,
            "grid_row": null,
            "grid_template_areas": null,
            "grid_template_columns": null,
            "grid_template_rows": null,
            "height": null,
            "justify_content": null,
            "justify_items": null,
            "left": null,
            "margin": null,
            "max_height": null,
            "max_width": null,
            "min_height": null,
            "min_width": null,
            "object_fit": null,
            "object_position": null,
            "order": null,
            "overflow": null,
            "overflow_x": null,
            "overflow_y": null,
            "padding": null,
            "right": null,
            "top": null,
            "visibility": null,
            "width": null
          }
        },
        "1ca5d4476f6a484ab9cc5b014aa4c87d": {
          "model_module": "@jupyter-widgets/controls",
          "model_module_version": "1.5.0",
          "model_name": "HTMLModel",
          "state": {
            "_dom_classes": [],
            "_model_module": "@jupyter-widgets/controls",
            "_model_module_version": "1.5.0",
            "_model_name": "HTMLModel",
            "_view_count": null,
            "_view_module": "@jupyter-widgets/controls",
            "_view_module_version": "1.5.0",
            "_view_name": "HTMLView",
            "description": "",
            "description_tooltip": null,
            "layout": "IPY_MODEL_f230427ee7f24ab0b7cc8679459560c9",
            "placeholder": "​",
            "style": "IPY_MODEL_83ddd7849f1c499f88bddbba9c23c519",
            "value": "Downloading (…)olve/main/vocab.json: 100%"
          }
        },
        "1d2e013d895a4251a5970dd59a23d043": {
          "model_module": "@jupyter-widgets/controls",
          "model_module_version": "1.5.0",
          "model_name": "FloatProgressModel",
          "state": {
            "_dom_classes": [],
            "_model_module": "@jupyter-widgets/controls",
            "_model_module_version": "1.5.0",
            "_model_name": "FloatProgressModel",
            "_view_count": null,
            "_view_module": "@jupyter-widgets/controls",
            "_view_module_version": "1.5.0",
            "_view_name": "ProgressView",
            "bar_style": "success",
            "description": "",
            "description_tooltip": null,
            "layout": "IPY_MODEL_4da39a9c93704458908d60cf0b87d6fc",
            "max": 1000,
            "min": 0,
            "orientation": "horizontal",
            "style": "IPY_MODEL_dfeb3a877d0f4c2da9cc60f5f3a5f01e",
            "value": 1000
          }
        },
        "237e43278de945d8ad1dedaa05e6dc23": {
          "model_module": "@jupyter-widgets/controls",
          "model_module_version": "1.5.0",
          "model_name": "HTMLModel",
          "state": {
            "_dom_classes": [],
            "_model_module": "@jupyter-widgets/controls",
            "_model_module_version": "1.5.0",
            "_model_name": "HTMLModel",
            "_view_count": null,
            "_view_module": "@jupyter-widgets/controls",
            "_view_module_version": "1.5.0",
            "_view_name": "HTMLView",
            "description": "",
            "description_tooltip": null,
            "layout": "IPY_MODEL_14c1b62479e44058a4a37eb75acd5a19",
            "placeholder": "​",
            "style": "IPY_MODEL_28890b60fe424cff866618b18e974f53",
            "value": " 1000/1000 [00:43&lt;00:00, 24.93it/s]"
          }
        },
        "23aba8fca3a14e359e545bb664878f5d": {
          "model_module": "@jupyter-widgets/controls",
          "model_module_version": "1.5.0",
          "model_name": "DescriptionStyleModel",
          "state": {
            "_model_module": "@jupyter-widgets/controls",
            "_model_module_version": "1.5.0",
            "_model_name": "DescriptionStyleModel",
            "_view_count": null,
            "_view_module": "@jupyter-widgets/base",
            "_view_module_version": "1.2.0",
            "_view_name": "StyleView",
            "description_width": ""
          }
        },
        "23e80304dc634dee88bfc24478c8a763": {
          "model_module": "@jupyter-widgets/base",
          "model_module_version": "1.2.0",
          "model_name": "LayoutModel",
          "state": {
            "_model_module": "@jupyter-widgets/base",
            "_model_module_version": "1.2.0",
            "_model_name": "LayoutModel",
            "_view_count": null,
            "_view_module": "@jupyter-widgets/base",
            "_view_module_version": "1.2.0",
            "_view_name": "LayoutView",
            "align_content": null,
            "align_items": null,
            "align_self": null,
            "border": null,
            "bottom": null,
            "display": null,
            "flex": null,
            "flex_flow": null,
            "grid_area": null,
            "grid_auto_columns": null,
            "grid_auto_flow": null,
            "grid_auto_rows": null,
            "grid_column": null,
            "grid_gap": null,
            "grid_row": null,
            "grid_template_areas": null,
            "grid_template_columns": null,
            "grid_template_rows": null,
            "height": null,
            "justify_content": null,
            "justify_items": null,
            "left": null,
            "margin": null,
            "max_height": null,
            "max_width": null,
            "min_height": null,
            "min_width": null,
            "object_fit": null,
            "object_position": null,
            "order": null,
            "overflow": null,
            "overflow_x": null,
            "overflow_y": null,
            "padding": null,
            "right": null,
            "top": null,
            "visibility": null,
            "width": null
          }
        },
        "241c642f592844cc9ad98885a77bfaaa": {
          "model_module": "@jupyter-widgets/controls",
          "model_module_version": "1.5.0",
          "model_name": "DescriptionStyleModel",
          "state": {
            "_model_module": "@jupyter-widgets/controls",
            "_model_module_version": "1.5.0",
            "_model_name": "DescriptionStyleModel",
            "_view_count": null,
            "_view_module": "@jupyter-widgets/base",
            "_view_module_version": "1.2.0",
            "_view_name": "StyleView",
            "description_width": ""
          }
        },
        "2684ef7875fc49e3b35a962ccfc49f81": {
          "model_module": "@jupyter-widgets/controls",
          "model_module_version": "1.5.0",
          "model_name": "HTMLModel",
          "state": {
            "_dom_classes": [],
            "_model_module": "@jupyter-widgets/controls",
            "_model_module_version": "1.5.0",
            "_model_name": "HTMLModel",
            "_view_count": null,
            "_view_module": "@jupyter-widgets/controls",
            "_view_module_version": "1.5.0",
            "_view_name": "HTMLView",
            "description": "",
            "description_tooltip": null,
            "layout": "IPY_MODEL_b83460fdeb06475a800088c17f7c0500",
            "placeholder": "​",
            "style": "IPY_MODEL_5b04638b46344cb9894f7ffa69376cc3",
            "value": "Downloading (…)lve/main/config.json: 100%"
          }
        },
        "269fc971686f4b4c847aa703006b25ff": {
          "model_module": "@jupyter-widgets/controls",
          "model_module_version": "1.5.0",
          "model_name": "HTMLModel",
          "state": {
            "_dom_classes": [],
            "_model_module": "@jupyter-widgets/controls",
            "_model_module_version": "1.5.0",
            "_model_name": "HTMLModel",
            "_view_count": null,
            "_view_module": "@jupyter-widgets/controls",
            "_view_module_version": "1.5.0",
            "_view_name": "HTMLView",
            "description": "",
            "description_tooltip": null,
            "layout": "IPY_MODEL_c82e89c4b16b4308b22d282df1ee35bd",
            "placeholder": "​",
            "style": "IPY_MODEL_fc478972b63f4fb4908da05614c99041",
            "value": " 1000/1000 [00:43&lt;00:00, 17.26it/s]"
          }
        },
        "28890b60fe424cff866618b18e974f53": {
          "model_module": "@jupyter-widgets/controls",
          "model_module_version": "1.5.0",
          "model_name": "DescriptionStyleModel",
          "state": {
            "_model_module": "@jupyter-widgets/controls",
            "_model_module_version": "1.5.0",
            "_model_name": "DescriptionStyleModel",
            "_view_count": null,
            "_view_module": "@jupyter-widgets/base",
            "_view_module_version": "1.2.0",
            "_view_name": "StyleView",
            "description_width": ""
          }
        },
        "29ae07b2981e467581df5413ccffe771": {
          "model_module": "@jupyter-widgets/controls",
          "model_module_version": "1.5.0",
          "model_name": "DescriptionStyleModel",
          "state": {
            "_model_module": "@jupyter-widgets/controls",
            "_model_module_version": "1.5.0",
            "_model_name": "DescriptionStyleModel",
            "_view_count": null,
            "_view_module": "@jupyter-widgets/base",
            "_view_module_version": "1.2.0",
            "_view_name": "StyleView",
            "description_width": ""
          }
        },
        "2c84a218205e49239d225e80547e41b5": {
          "model_module": "@jupyter-widgets/base",
          "model_module_version": "1.2.0",
          "model_name": "LayoutModel",
          "state": {
            "_model_module": "@jupyter-widgets/base",
            "_model_module_version": "1.2.0",
            "_model_name": "LayoutModel",
            "_view_count": null,
            "_view_module": "@jupyter-widgets/base",
            "_view_module_version": "1.2.0",
            "_view_name": "LayoutView",
            "align_content": null,
            "align_items": null,
            "align_self": null,
            "border": null,
            "bottom": null,
            "display": null,
            "flex": null,
            "flex_flow": null,
            "grid_area": null,
            "grid_auto_columns": null,
            "grid_auto_flow": null,
            "grid_auto_rows": null,
            "grid_column": null,
            "grid_gap": null,
            "grid_row": null,
            "grid_template_areas": null,
            "grid_template_columns": null,
            "grid_template_rows": null,
            "height": null,
            "justify_content": null,
            "justify_items": null,
            "left": null,
            "margin": null,
            "max_height": null,
            "max_width": null,
            "min_height": null,
            "min_width": null,
            "object_fit": null,
            "object_position": null,
            "order": null,
            "overflow": null,
            "overflow_x": null,
            "overflow_y": null,
            "padding": null,
            "right": null,
            "top": null,
            "visibility": null,
            "width": null
          }
        },
        "3209cba4de9847e3aeef3e1f7823c26a": {
          "model_module": "@jupyter-widgets/controls",
          "model_module_version": "1.5.0",
          "model_name": "HTMLModel",
          "state": {
            "_dom_classes": [],
            "_model_module": "@jupyter-widgets/controls",
            "_model_module_version": "1.5.0",
            "_model_name": "HTMLModel",
            "_view_count": null,
            "_view_module": "@jupyter-widgets/controls",
            "_view_module_version": "1.5.0",
            "_view_name": "HTMLView",
            "description": "",
            "description_tooltip": null,
            "layout": "IPY_MODEL_8b615ddae49047d688600abb759e9e7d",
            "placeholder": "​",
            "style": "IPY_MODEL_71c3323ace1144d18f4bdd3d95015f9c",
            "value": " 666/666 [00:00&lt;00:00, 22.5kB/s]"
          }
        },
        "3678e35325554955aa4ac2c399f0c0fc": {
          "model_module": "@jupyter-widgets/controls",
          "model_module_version": "1.5.0",
          "model_name": "ProgressStyleModel",
          "state": {
            "_model_module": "@jupyter-widgets/controls",
            "_model_module_version": "1.5.0",
            "_model_name": "ProgressStyleModel",
            "_view_count": null,
            "_view_module": "@jupyter-widgets/base",
            "_view_module_version": "1.2.0",
            "_view_name": "StyleView",
            "bar_color": null,
            "description_width": ""
          }
        },
        "378a4bf1ac9d4b598e340216f42dfa3f": {
          "model_module": "@jupyter-widgets/base",
          "model_module_version": "1.2.0",
          "model_name": "LayoutModel",
          "state": {
            "_model_module": "@jupyter-widgets/base",
            "_model_module_version": "1.2.0",
            "_model_name": "LayoutModel",
            "_view_count": null,
            "_view_module": "@jupyter-widgets/base",
            "_view_module_version": "1.2.0",
            "_view_name": "LayoutView",
            "align_content": null,
            "align_items": null,
            "align_self": null,
            "border": null,
            "bottom": null,
            "display": null,
            "flex": null,
            "flex_flow": null,
            "grid_area": null,
            "grid_auto_columns": null,
            "grid_auto_flow": null,
            "grid_auto_rows": null,
            "grid_column": null,
            "grid_gap": null,
            "grid_row": null,
            "grid_template_areas": null,
            "grid_template_columns": null,
            "grid_template_rows": null,
            "height": null,
            "justify_content": null,
            "justify_items": null,
            "left": null,
            "margin": null,
            "max_height": null,
            "max_width": null,
            "min_height": null,
            "min_width": null,
            "object_fit": null,
            "object_position": null,
            "order": null,
            "overflow": null,
            "overflow_x": null,
            "overflow_y": null,
            "padding": null,
            "right": null,
            "top": null,
            "visibility": null,
            "width": null
          }
        },
        "3825280ce1024523a689596bc9bf8530": {
          "model_module": "@jupyter-widgets/controls",
          "model_module_version": "1.5.0",
          "model_name": "HBoxModel",
          "state": {
            "_dom_classes": [],
            "_model_module": "@jupyter-widgets/controls",
            "_model_module_version": "1.5.0",
            "_model_name": "HBoxModel",
            "_view_count": null,
            "_view_module": "@jupyter-widgets/controls",
            "_view_module_version": "1.5.0",
            "_view_name": "HBoxView",
            "box_style": "",
            "children": [
              "IPY_MODEL_da76830ca6ef480c8daa52f5e98a298b",
              "IPY_MODEL_6374a90ea93c4d28a6493ce6ea9d513d",
              "IPY_MODEL_9c599473a5fd43f8a3f859b11d2c3604"
            ],
            "layout": "IPY_MODEL_d6f46d7ce3a4423783f0d0b655631eab"
          }
        },
        "3e5c5339c0ce42049ce81ed3b65a299e": {
          "model_module": "@jupyter-widgets/controls",
          "model_module_version": "1.5.0",
          "model_name": "DescriptionStyleModel",
          "state": {
            "_model_module": "@jupyter-widgets/controls",
            "_model_module_version": "1.5.0",
            "_model_name": "DescriptionStyleModel",
            "_view_count": null,
            "_view_module": "@jupyter-widgets/base",
            "_view_module_version": "1.2.0",
            "_view_name": "StyleView",
            "description_width": ""
          }
        },
        "40680b1e6d3c4e33b53e62f869d66675": {
          "model_module": "@jupyter-widgets/base",
          "model_module_version": "1.2.0",
          "model_name": "LayoutModel",
          "state": {
            "_model_module": "@jupyter-widgets/base",
            "_model_module_version": "1.2.0",
            "_model_name": "LayoutModel",
            "_view_count": null,
            "_view_module": "@jupyter-widgets/base",
            "_view_module_version": "1.2.0",
            "_view_name": "LayoutView",
            "align_content": null,
            "align_items": null,
            "align_self": null,
            "border": null,
            "bottom": null,
            "display": null,
            "flex": null,
            "flex_flow": null,
            "grid_area": null,
            "grid_auto_columns": null,
            "grid_auto_flow": null,
            "grid_auto_rows": null,
            "grid_column": null,
            "grid_gap": null,
            "grid_row": null,
            "grid_template_areas": null,
            "grid_template_columns": null,
            "grid_template_rows": null,
            "height": null,
            "justify_content": null,
            "justify_items": null,
            "left": null,
            "margin": null,
            "max_height": null,
            "max_width": null,
            "min_height": null,
            "min_width": null,
            "object_fit": null,
            "object_position": null,
            "order": null,
            "overflow": null,
            "overflow_x": null,
            "overflow_y": null,
            "padding": null,
            "right": null,
            "top": null,
            "visibility": null,
            "width": null
          }
        },
        "439fcafcea624d3a97d74b272dd5cb02": {
          "model_module": "@jupyter-widgets/controls",
          "model_module_version": "1.5.0",
          "model_name": "DescriptionStyleModel",
          "state": {
            "_model_module": "@jupyter-widgets/controls",
            "_model_module_version": "1.5.0",
            "_model_name": "DescriptionStyleModel",
            "_view_count": null,
            "_view_module": "@jupyter-widgets/base",
            "_view_module_version": "1.2.0",
            "_view_name": "StyleView",
            "description_width": ""
          }
        },
        "47f3b4d56ee7490b94f35bc0ba4f08dc": {
          "model_module": "@jupyter-widgets/controls",
          "model_module_version": "1.5.0",
          "model_name": "DescriptionStyleModel",
          "state": {
            "_model_module": "@jupyter-widgets/controls",
            "_model_module_version": "1.5.0",
            "_model_name": "DescriptionStyleModel",
            "_view_count": null,
            "_view_module": "@jupyter-widgets/base",
            "_view_module_version": "1.2.0",
            "_view_name": "StyleView",
            "description_width": ""
          }
        },
        "4a3383f91d364be9a0fdbb763c984205": {
          "model_module": "@jupyter-widgets/base",
          "model_module_version": "1.2.0",
          "model_name": "LayoutModel",
          "state": {
            "_model_module": "@jupyter-widgets/base",
            "_model_module_version": "1.2.0",
            "_model_name": "LayoutModel",
            "_view_count": null,
            "_view_module": "@jupyter-widgets/base",
            "_view_module_version": "1.2.0",
            "_view_name": "LayoutView",
            "align_content": null,
            "align_items": null,
            "align_self": null,
            "border": null,
            "bottom": null,
            "display": null,
            "flex": null,
            "flex_flow": null,
            "grid_area": null,
            "grid_auto_columns": null,
            "grid_auto_flow": null,
            "grid_auto_rows": null,
            "grid_column": null,
            "grid_gap": null,
            "grid_row": null,
            "grid_template_areas": null,
            "grid_template_columns": null,
            "grid_template_rows": null,
            "height": null,
            "justify_content": null,
            "justify_items": null,
            "left": null,
            "margin": null,
            "max_height": null,
            "max_width": null,
            "min_height": null,
            "min_width": null,
            "object_fit": null,
            "object_position": null,
            "order": null,
            "overflow": null,
            "overflow_x": null,
            "overflow_y": null,
            "padding": null,
            "right": null,
            "top": null,
            "visibility": null,
            "width": null
          }
        },
        "4c8b74ff4a4c42f28bd0697a1ddd0fc5": {
          "model_module": "@jupyter-widgets/base",
          "model_module_version": "1.2.0",
          "model_name": "LayoutModel",
          "state": {
            "_model_module": "@jupyter-widgets/base",
            "_model_module_version": "1.2.0",
            "_model_name": "LayoutModel",
            "_view_count": null,
            "_view_module": "@jupyter-widgets/base",
            "_view_module_version": "1.2.0",
            "_view_name": "LayoutView",
            "align_content": null,
            "align_items": null,
            "align_self": null,
            "border": null,
            "bottom": null,
            "display": null,
            "flex": null,
            "flex_flow": null,
            "grid_area": null,
            "grid_auto_columns": null,
            "grid_auto_flow": null,
            "grid_auto_rows": null,
            "grid_column": null,
            "grid_gap": null,
            "grid_row": null,
            "grid_template_areas": null,
            "grid_template_columns": null,
            "grid_template_rows": null,
            "height": null,
            "justify_content": null,
            "justify_items": null,
            "left": null,
            "margin": null,
            "max_height": null,
            "max_width": null,
            "min_height": null,
            "min_width": null,
            "object_fit": null,
            "object_position": null,
            "order": null,
            "overflow": null,
            "overflow_x": null,
            "overflow_y": null,
            "padding": null,
            "right": null,
            "top": null,
            "visibility": null,
            "width": null
          }
        },
        "4da39a9c93704458908d60cf0b87d6fc": {
          "model_module": "@jupyter-widgets/base",
          "model_module_version": "1.2.0",
          "model_name": "LayoutModel",
          "state": {
            "_model_module": "@jupyter-widgets/base",
            "_model_module_version": "1.2.0",
            "_model_name": "LayoutModel",
            "_view_count": null,
            "_view_module": "@jupyter-widgets/base",
            "_view_module_version": "1.2.0",
            "_view_name": "LayoutView",
            "align_content": null,
            "align_items": null,
            "align_self": null,
            "border": null,
            "bottom": null,
            "display": null,
            "flex": null,
            "flex_flow": null,
            "grid_area": null,
            "grid_auto_columns": null,
            "grid_auto_flow": null,
            "grid_auto_rows": null,
            "grid_column": null,
            "grid_gap": null,
            "grid_row": null,
            "grid_template_areas": null,
            "grid_template_columns": null,
            "grid_template_rows": null,
            "height": null,
            "justify_content": null,
            "justify_items": null,
            "left": null,
            "margin": null,
            "max_height": null,
            "max_width": null,
            "min_height": null,
            "min_width": null,
            "object_fit": null,
            "object_position": null,
            "order": null,
            "overflow": null,
            "overflow_x": null,
            "overflow_y": null,
            "padding": null,
            "right": null,
            "top": null,
            "visibility": null,
            "width": null
          }
        },
        "4f11c38bedff462293bdbbf8e0be4ca9": {
          "model_module": "@jupyter-widgets/controls",
          "model_module_version": "1.5.0",
          "model_name": "DescriptionStyleModel",
          "state": {
            "_model_module": "@jupyter-widgets/controls",
            "_model_module_version": "1.5.0",
            "_model_name": "DescriptionStyleModel",
            "_view_count": null,
            "_view_module": "@jupyter-widgets/base",
            "_view_module_version": "1.2.0",
            "_view_name": "StyleView",
            "description_width": ""
          }
        },
        "508bce18d83f40fdbee569535f9db8d9": {
          "model_module": "@jupyter-widgets/controls",
          "model_module_version": "1.5.0",
          "model_name": "ProgressStyleModel",
          "state": {
            "_model_module": "@jupyter-widgets/controls",
            "_model_module_version": "1.5.0",
            "_model_name": "ProgressStyleModel",
            "_view_count": null,
            "_view_module": "@jupyter-widgets/base",
            "_view_module_version": "1.2.0",
            "_view_name": "StyleView",
            "bar_color": null,
            "description_width": ""
          }
        },
        "536d712335cc4f94854b56c3250de777": {
          "model_module": "@jupyter-widgets/base",
          "model_module_version": "1.2.0",
          "model_name": "LayoutModel",
          "state": {
            "_model_module": "@jupyter-widgets/base",
            "_model_module_version": "1.2.0",
            "_model_name": "LayoutModel",
            "_view_count": null,
            "_view_module": "@jupyter-widgets/base",
            "_view_module_version": "1.2.0",
            "_view_name": "LayoutView",
            "align_content": null,
            "align_items": null,
            "align_self": null,
            "border": null,
            "bottom": null,
            "display": null,
            "flex": null,
            "flex_flow": null,
            "grid_area": null,
            "grid_auto_columns": null,
            "grid_auto_flow": null,
            "grid_auto_rows": null,
            "grid_column": null,
            "grid_gap": null,
            "grid_row": null,
            "grid_template_areas": null,
            "grid_template_columns": null,
            "grid_template_rows": null,
            "height": null,
            "justify_content": null,
            "justify_items": null,
            "left": null,
            "margin": null,
            "max_height": null,
            "max_width": null,
            "min_height": null,
            "min_width": null,
            "object_fit": null,
            "object_position": null,
            "order": null,
            "overflow": null,
            "overflow_x": null,
            "overflow_y": null,
            "padding": null,
            "right": null,
            "top": null,
            "visibility": null,
            "width": null
          }
        },
        "545c8b5db0ad4586ae47657310e4921f": {
          "model_module": "@jupyter-widgets/controls",
          "model_module_version": "1.5.0",
          "model_name": "ProgressStyleModel",
          "state": {
            "_model_module": "@jupyter-widgets/controls",
            "_model_module_version": "1.5.0",
            "_model_name": "ProgressStyleModel",
            "_view_count": null,
            "_view_module": "@jupyter-widgets/base",
            "_view_module_version": "1.2.0",
            "_view_name": "StyleView",
            "bar_color": null,
            "description_width": ""
          }
        },
        "55647b64342d48e7a9444297557670c1": {
          "model_module": "@jupyter-widgets/controls",
          "model_module_version": "1.5.0",
          "model_name": "ProgressStyleModel",
          "state": {
            "_model_module": "@jupyter-widgets/controls",
            "_model_module_version": "1.5.0",
            "_model_name": "ProgressStyleModel",
            "_view_count": null,
            "_view_module": "@jupyter-widgets/base",
            "_view_module_version": "1.2.0",
            "_view_name": "StyleView",
            "bar_color": null,
            "description_width": ""
          }
        },
        "578393b58f964c2fa413964c9ed2c7f7": {
          "model_module": "@jupyter-widgets/controls",
          "model_module_version": "1.5.0",
          "model_name": "HBoxModel",
          "state": {
            "_dom_classes": [],
            "_model_module": "@jupyter-widgets/controls",
            "_model_module_version": "1.5.0",
            "_model_name": "HBoxModel",
            "_view_count": null,
            "_view_module": "@jupyter-widgets/controls",
            "_view_module_version": "1.5.0",
            "_view_name": "HBoxView",
            "box_style": "",
            "children": [
              "IPY_MODEL_6a468bc3efe9486980836f616ebeb7c2",
              "IPY_MODEL_9969f8a30e4a450396faf6fd06d8305f",
              "IPY_MODEL_237e43278de945d8ad1dedaa05e6dc23"
            ],
            "layout": "IPY_MODEL_da4a2e289ced4eaa9533a0da14bd0b0b"
          }
        },
        "57d45440408e4750a709527048e63a0d": {
          "model_module": "@jupyter-widgets/controls",
          "model_module_version": "1.5.0",
          "model_name": "HTMLModel",
          "state": {
            "_dom_classes": [],
            "_model_module": "@jupyter-widgets/controls",
            "_model_module_version": "1.5.0",
            "_model_name": "HTMLModel",
            "_view_count": null,
            "_view_module": "@jupyter-widgets/controls",
            "_view_module_version": "1.5.0",
            "_view_name": "HTMLView",
            "description": "",
            "description_tooltip": null,
            "layout": "IPY_MODEL_f8d755123ab74b328631e7ad28c718de",
            "placeholder": "​",
            "style": "IPY_MODEL_241c642f592844cc9ad98885a77bfaaa",
            "value": " 2/2 [00:01&lt;00:00,  1.78it/s]"
          }
        },
        "591aed7ad55742e1ab023a1a32691150": {
          "model_module": "@jupyter-widgets/controls",
          "model_module_version": "1.5.0",
          "model_name": "FloatProgressModel",
          "state": {
            "_dom_classes": [],
            "_model_module": "@jupyter-widgets/controls",
            "_model_module_version": "1.5.0",
            "_model_name": "FloatProgressModel",
            "_view_count": null,
            "_view_module": "@jupyter-widgets/controls",
            "_view_module_version": "1.5.0",
            "_view_name": "ProgressView",
            "bar_style": "success",
            "description": "",
            "description_tooltip": null,
            "layout": "IPY_MODEL_cff52cabcefc4a5dbe69cf6e59566b7f",
            "max": 1355256,
            "min": 0,
            "orientation": "horizontal",
            "style": "IPY_MODEL_55647b64342d48e7a9444297557670c1",
            "value": 1355256
          }
        },
        "5b04638b46344cb9894f7ffa69376cc3": {
          "model_module": "@jupyter-widgets/controls",
          "model_module_version": "1.5.0",
          "model_name": "DescriptionStyleModel",
          "state": {
            "_model_module": "@jupyter-widgets/controls",
            "_model_module_version": "1.5.0",
            "_model_name": "DescriptionStyleModel",
            "_view_count": null,
            "_view_module": "@jupyter-widgets/base",
            "_view_module_version": "1.2.0",
            "_view_name": "StyleView",
            "description_width": ""
          }
        },
        "5d0491e3a7bf465fab955ccc24906dd5": {
          "model_module": "@jupyter-widgets/base",
          "model_module_version": "1.2.0",
          "model_name": "LayoutModel",
          "state": {
            "_model_module": "@jupyter-widgets/base",
            "_model_module_version": "1.2.0",
            "_model_name": "LayoutModel",
            "_view_count": null,
            "_view_module": "@jupyter-widgets/base",
            "_view_module_version": "1.2.0",
            "_view_name": "LayoutView",
            "align_content": null,
            "align_items": null,
            "align_self": null,
            "border": null,
            "bottom": null,
            "display": null,
            "flex": null,
            "flex_flow": null,
            "grid_area": null,
            "grid_auto_columns": null,
            "grid_auto_flow": null,
            "grid_auto_rows": null,
            "grid_column": null,
            "grid_gap": null,
            "grid_row": null,
            "grid_template_areas": null,
            "grid_template_columns": null,
            "grid_template_rows": null,
            "height": null,
            "justify_content": null,
            "justify_items": null,
            "left": null,
            "margin": null,
            "max_height": null,
            "max_width": null,
            "min_height": null,
            "min_width": null,
            "object_fit": null,
            "object_position": null,
            "order": null,
            "overflow": null,
            "overflow_x": null,
            "overflow_y": null,
            "padding": null,
            "right": null,
            "top": null,
            "visibility": null,
            "width": null
          }
        },
        "5fef9f1f15e3479598796599e8cbcb02": {
          "model_module": "@jupyter-widgets/controls",
          "model_module_version": "1.5.0",
          "model_name": "DescriptionStyleModel",
          "state": {
            "_model_module": "@jupyter-widgets/controls",
            "_model_module_version": "1.5.0",
            "_model_name": "DescriptionStyleModel",
            "_view_count": null,
            "_view_module": "@jupyter-widgets/base",
            "_view_module_version": "1.2.0",
            "_view_name": "StyleView",
            "description_width": ""
          }
        },
        "61eca1f041f74834984b385d08283145": {
          "model_module": "@jupyter-widgets/controls",
          "model_module_version": "1.5.0",
          "model_name": "DescriptionStyleModel",
          "state": {
            "_model_module": "@jupyter-widgets/controls",
            "_model_module_version": "1.5.0",
            "_model_name": "DescriptionStyleModel",
            "_view_count": null,
            "_view_module": "@jupyter-widgets/base",
            "_view_module_version": "1.2.0",
            "_view_name": "StyleView",
            "description_width": ""
          }
        },
        "62ac47d24bb5412ab3bc71422641af54": {
          "model_module": "@jupyter-widgets/base",
          "model_module_version": "1.2.0",
          "model_name": "LayoutModel",
          "state": {
            "_model_module": "@jupyter-widgets/base",
            "_model_module_version": "1.2.0",
            "_model_name": "LayoutModel",
            "_view_count": null,
            "_view_module": "@jupyter-widgets/base",
            "_view_module_version": "1.2.0",
            "_view_name": "LayoutView",
            "align_content": null,
            "align_items": null,
            "align_self": null,
            "border": null,
            "bottom": null,
            "display": null,
            "flex": null,
            "flex_flow": null,
            "grid_area": null,
            "grid_auto_columns": null,
            "grid_auto_flow": null,
            "grid_auto_rows": null,
            "grid_column": null,
            "grid_gap": null,
            "grid_row": null,
            "grid_template_areas": null,
            "grid_template_columns": null,
            "grid_template_rows": null,
            "height": null,
            "justify_content": null,
            "justify_items": null,
            "left": null,
            "margin": null,
            "max_height": null,
            "max_width": null,
            "min_height": null,
            "min_width": null,
            "object_fit": null,
            "object_position": null,
            "order": null,
            "overflow": null,
            "overflow_x": null,
            "overflow_y": null,
            "padding": null,
            "right": null,
            "top": null,
            "visibility": null,
            "width": null
          }
        },
        "6374a90ea93c4d28a6493ce6ea9d513d": {
          "model_module": "@jupyter-widgets/controls",
          "model_module_version": "1.5.0",
          "model_name": "FloatProgressModel",
          "state": {
            "_dom_classes": [],
            "_model_module": "@jupyter-widgets/controls",
            "_model_module_version": "1.5.0",
            "_model_name": "FloatProgressModel",
            "_view_count": null,
            "_view_module": "@jupyter-widgets/controls",
            "_view_module_version": "1.5.0",
            "_view_name": "ProgressView",
            "bar_style": "success",
            "description": "",
            "description_tooltip": null,
            "layout": "IPY_MODEL_b9e0d6f9667b4c5e8d7cfc6de2ad0e81",
            "max": 2,
            "min": 0,
            "orientation": "horizontal",
            "style": "IPY_MODEL_acb49c5099b24399b6c16e9b7313f363",
            "value": 2
          }
        },
        "689fbb6aecf84c778fa48dce5164b5c0": {
          "model_module": "@jupyter-widgets/base",
          "model_module_version": "1.2.0",
          "model_name": "LayoutModel",
          "state": {
            "_model_module": "@jupyter-widgets/base",
            "_model_module_version": "1.2.0",
            "_model_name": "LayoutModel",
            "_view_count": null,
            "_view_module": "@jupyter-widgets/base",
            "_view_module_version": "1.2.0",
            "_view_name": "LayoutView",
            "align_content": null,
            "align_items": null,
            "align_self": null,
            "border": null,
            "bottom": null,
            "display": null,
            "flex": null,
            "flex_flow": null,
            "grid_area": null,
            "grid_auto_columns": null,
            "grid_auto_flow": null,
            "grid_auto_rows": null,
            "grid_column": null,
            "grid_gap": null,
            "grid_row": null,
            "grid_template_areas": null,
            "grid_template_columns": null,
            "grid_template_rows": null,
            "height": null,
            "justify_content": null,
            "justify_items": null,
            "left": null,
            "margin": null,
            "max_height": null,
            "max_width": null,
            "min_height": null,
            "min_width": null,
            "object_fit": null,
            "object_position": null,
            "order": null,
            "overflow": null,
            "overflow_x": null,
            "overflow_y": null,
            "padding": null,
            "right": null,
            "top": null,
            "visibility": null,
            "width": null
          }
        },
        "6a468bc3efe9486980836f616ebeb7c2": {
          "model_module": "@jupyter-widgets/controls",
          "model_module_version": "1.5.0",
          "model_name": "HTMLModel",
          "state": {
            "_dom_classes": [],
            "_model_module": "@jupyter-widgets/controls",
            "_model_module_version": "1.5.0",
            "_model_name": "HTMLModel",
            "_view_count": null,
            "_view_module": "@jupyter-widgets/controls",
            "_view_module_version": "1.5.0",
            "_view_name": "HTMLView",
            "description": "",
            "description_tooltip": null,
            "layout": "IPY_MODEL_aa355144f9bf47c68d0bf86bc9415d26",
            "placeholder": "​",
            "style": "IPY_MODEL_3e5c5339c0ce42049ce81ed3b65a299e",
            "value": "Featurizing q: 100%"
          }
        },
        "6ae8f4843fc14028878039521d9d7d8f": {
          "model_module": "@jupyter-widgets/base",
          "model_module_version": "1.2.0",
          "model_name": "LayoutModel",
          "state": {
            "_model_module": "@jupyter-widgets/base",
            "_model_module_version": "1.2.0",
            "_model_name": "LayoutModel",
            "_view_count": null,
            "_view_module": "@jupyter-widgets/base",
            "_view_module_version": "1.2.0",
            "_view_name": "LayoutView",
            "align_content": null,
            "align_items": null,
            "align_self": null,
            "border": null,
            "bottom": null,
            "display": null,
            "flex": null,
            "flex_flow": null,
            "grid_area": null,
            "grid_auto_columns": null,
            "grid_auto_flow": null,
            "grid_auto_rows": null,
            "grid_column": null,
            "grid_gap": null,
            "grid_row": null,
            "grid_template_areas": null,
            "grid_template_columns": null,
            "grid_template_rows": null,
            "height": null,
            "justify_content": null,
            "justify_items": null,
            "left": null,
            "margin": null,
            "max_height": null,
            "max_width": null,
            "min_height": null,
            "min_width": null,
            "object_fit": null,
            "object_position": null,
            "order": null,
            "overflow": null,
            "overflow_x": null,
            "overflow_y": null,
            "padding": null,
            "right": null,
            "top": null,
            "visibility": null,
            "width": null
          }
        },
        "6b397c6143814a68ae70069b87b790fa": {
          "model_module": "@jupyter-widgets/base",
          "model_module_version": "1.2.0",
          "model_name": "LayoutModel",
          "state": {
            "_model_module": "@jupyter-widgets/base",
            "_model_module_version": "1.2.0",
            "_model_name": "LayoutModel",
            "_view_count": null,
            "_view_module": "@jupyter-widgets/base",
            "_view_module_version": "1.2.0",
            "_view_name": "LayoutView",
            "align_content": null,
            "align_items": null,
            "align_self": null,
            "border": null,
            "bottom": null,
            "display": null,
            "flex": null,
            "flex_flow": null,
            "grid_area": null,
            "grid_auto_columns": null,
            "grid_auto_flow": null,
            "grid_auto_rows": null,
            "grid_column": null,
            "grid_gap": null,
            "grid_row": null,
            "grid_template_areas": null,
            "grid_template_columns": null,
            "grid_template_rows": null,
            "height": null,
            "justify_content": null,
            "justify_items": null,
            "left": null,
            "margin": null,
            "max_height": null,
            "max_width": null,
            "min_height": null,
            "min_width": null,
            "object_fit": null,
            "object_position": null,
            "order": null,
            "overflow": null,
            "overflow_x": null,
            "overflow_y": null,
            "padding": null,
            "right": null,
            "top": null,
            "visibility": null,
            "width": null
          }
        },
        "6c9fb81fb2f24257aedaecc363904a24": {
          "model_module": "@jupyter-widgets/base",
          "model_module_version": "1.2.0",
          "model_name": "LayoutModel",
          "state": {
            "_model_module": "@jupyter-widgets/base",
            "_model_module_version": "1.2.0",
            "_model_name": "LayoutModel",
            "_view_count": null,
            "_view_module": "@jupyter-widgets/base",
            "_view_module_version": "1.2.0",
            "_view_name": "LayoutView",
            "align_content": null,
            "align_items": null,
            "align_self": null,
            "border": null,
            "bottom": null,
            "display": null,
            "flex": null,
            "flex_flow": null,
            "grid_area": null,
            "grid_auto_columns": null,
            "grid_auto_flow": null,
            "grid_auto_rows": null,
            "grid_column": null,
            "grid_gap": null,
            "grid_row": null,
            "grid_template_areas": null,
            "grid_template_columns": null,
            "grid_template_rows": null,
            "height": null,
            "justify_content": null,
            "justify_items": null,
            "left": null,
            "margin": null,
            "max_height": null,
            "max_width": null,
            "min_height": null,
            "min_width": null,
            "object_fit": null,
            "object_position": null,
            "order": null,
            "overflow": null,
            "overflow_x": null,
            "overflow_y": null,
            "padding": null,
            "right": null,
            "top": null,
            "visibility": null,
            "width": null
          }
        },
        "71c3323ace1144d18f4bdd3d95015f9c": {
          "model_module": "@jupyter-widgets/controls",
          "model_module_version": "1.5.0",
          "model_name": "DescriptionStyleModel",
          "state": {
            "_model_module": "@jupyter-widgets/controls",
            "_model_module_version": "1.5.0",
            "_model_name": "DescriptionStyleModel",
            "_view_count": null,
            "_view_module": "@jupyter-widgets/base",
            "_view_module_version": "1.2.0",
            "_view_name": "StyleView",
            "description_width": ""
          }
        },
        "733292d5199c48f28996150c39da5e48": {
          "model_module": "@jupyter-widgets/base",
          "model_module_version": "1.2.0",
          "model_name": "LayoutModel",
          "state": {
            "_model_module": "@jupyter-widgets/base",
            "_model_module_version": "1.2.0",
            "_model_name": "LayoutModel",
            "_view_count": null,
            "_view_module": "@jupyter-widgets/base",
            "_view_module_version": "1.2.0",
            "_view_name": "LayoutView",
            "align_content": null,
            "align_items": null,
            "align_self": null,
            "border": null,
            "bottom": null,
            "display": null,
            "flex": null,
            "flex_flow": null,
            "grid_area": null,
            "grid_auto_columns": null,
            "grid_auto_flow": null,
            "grid_auto_rows": null,
            "grid_column": null,
            "grid_gap": null,
            "grid_row": null,
            "grid_template_areas": null,
            "grid_template_columns": null,
            "grid_template_rows": null,
            "height": null,
            "justify_content": null,
            "justify_items": null,
            "left": null,
            "margin": null,
            "max_height": null,
            "max_width": null,
            "min_height": null,
            "min_width": null,
            "object_fit": null,
            "object_position": null,
            "order": null,
            "overflow": null,
            "overflow_x": null,
            "overflow_y": null,
            "padding": null,
            "right": null,
            "top": null,
            "visibility": null,
            "width": null
          }
        },
        "7ade6688c86c4c3bbfe5cdb7b10f2e26": {
          "model_module": "@jupyter-widgets/base",
          "model_module_version": "1.2.0",
          "model_name": "LayoutModel",
          "state": {
            "_model_module": "@jupyter-widgets/base",
            "_model_module_version": "1.2.0",
            "_model_name": "LayoutModel",
            "_view_count": null,
            "_view_module": "@jupyter-widgets/base",
            "_view_module_version": "1.2.0",
            "_view_name": "LayoutView",
            "align_content": null,
            "align_items": null,
            "align_self": null,
            "border": null,
            "bottom": null,
            "display": null,
            "flex": null,
            "flex_flow": null,
            "grid_area": null,
            "grid_auto_columns": null,
            "grid_auto_flow": null,
            "grid_auto_rows": null,
            "grid_column": null,
            "grid_gap": null,
            "grid_row": null,
            "grid_template_areas": null,
            "grid_template_columns": null,
            "grid_template_rows": null,
            "height": null,
            "justify_content": null,
            "justify_items": null,
            "left": null,
            "margin": null,
            "max_height": null,
            "max_width": null,
            "min_height": null,
            "min_width": null,
            "object_fit": null,
            "object_position": null,
            "order": null,
            "overflow": null,
            "overflow_x": null,
            "overflow_y": null,
            "padding": null,
            "right": null,
            "top": null,
            "visibility": null,
            "width": null
          }
        },
        "7f3896d1ca024df1ba352020af744c24": {
          "model_module": "@jupyter-widgets/base",
          "model_module_version": "1.2.0",
          "model_name": "LayoutModel",
          "state": {
            "_model_module": "@jupyter-widgets/base",
            "_model_module_version": "1.2.0",
            "_model_name": "LayoutModel",
            "_view_count": null,
            "_view_module": "@jupyter-widgets/base",
            "_view_module_version": "1.2.0",
            "_view_name": "LayoutView",
            "align_content": null,
            "align_items": null,
            "align_self": null,
            "border": null,
            "bottom": null,
            "display": null,
            "flex": null,
            "flex_flow": null,
            "grid_area": null,
            "grid_auto_columns": null,
            "grid_auto_flow": null,
            "grid_auto_rows": null,
            "grid_column": null,
            "grid_gap": null,
            "grid_row": null,
            "grid_template_areas": null,
            "grid_template_columns": null,
            "grid_template_rows": null,
            "height": null,
            "justify_content": null,
            "justify_items": null,
            "left": null,
            "margin": null,
            "max_height": null,
            "max_width": null,
            "min_height": null,
            "min_width": null,
            "object_fit": null,
            "object_position": null,
            "order": null,
            "overflow": null,
            "overflow_x": null,
            "overflow_y": null,
            "padding": null,
            "right": null,
            "top": null,
            "visibility": null,
            "width": null
          }
        },
        "7f40c6315e2e4b2e9e70690563cf496d": {
          "model_module": "@jupyter-widgets/controls",
          "model_module_version": "1.5.0",
          "model_name": "HBoxModel",
          "state": {
            "_dom_classes": [],
            "_model_module": "@jupyter-widgets/controls",
            "_model_module_version": "1.5.0",
            "_model_name": "HBoxModel",
            "_view_count": null,
            "_view_module": "@jupyter-widgets/controls",
            "_view_module_version": "1.5.0",
            "_view_name": "HBoxView",
            "box_style": "",
            "children": [
              "IPY_MODEL_97505123ae7c4e25ab1de3ccb02f1fed",
              "IPY_MODEL_cb7d1171b0d142028c940a318eb569be",
              "IPY_MODEL_269fc971686f4b4c847aa703006b25ff"
            ],
            "layout": "IPY_MODEL_9e0c874fe8a946d4ad6ab54645c11dac"
          }
        },
        "80f1f2e6ebb64fa68f3a3dfacf63a06b": {
          "model_module": "@jupyter-widgets/controls",
          "model_module_version": "1.5.0",
          "model_name": "FloatProgressModel",
          "state": {
            "_dom_classes": [],
            "_model_module": "@jupyter-widgets/controls",
            "_model_module_version": "1.5.0",
            "_model_name": "FloatProgressModel",
            "_view_count": null,
            "_view_module": "@jupyter-widgets/controls",
            "_view_module_version": "1.5.0",
            "_view_name": "ProgressView",
            "bar_style": "success",
            "description": "",
            "description_tooltip": null,
            "layout": "IPY_MODEL_6c9fb81fb2f24257aedaecc363904a24",
            "max": 2,
            "min": 0,
            "orientation": "horizontal",
            "style": "IPY_MODEL_f408f337632645f79be1ebc6ecc89c08",
            "value": 2
          }
        },
        "81f1d5f6f2f34625b9fd91c45d52bdaa": {
          "model_module": "@jupyter-widgets/controls",
          "model_module_version": "1.5.0",
          "model_name": "ProgressStyleModel",
          "state": {
            "_model_module": "@jupyter-widgets/controls",
            "_model_module_version": "1.5.0",
            "_model_name": "ProgressStyleModel",
            "_view_count": null,
            "_view_module": "@jupyter-widgets/base",
            "_view_module_version": "1.2.0",
            "_view_name": "StyleView",
            "bar_color": null,
            "description_width": ""
          }
        },
        "83ddd7849f1c499f88bddbba9c23c519": {
          "model_module": "@jupyter-widgets/controls",
          "model_module_version": "1.5.0",
          "model_name": "DescriptionStyleModel",
          "state": {
            "_model_module": "@jupyter-widgets/controls",
            "_model_module_version": "1.5.0",
            "_model_name": "DescriptionStyleModel",
            "_view_count": null,
            "_view_module": "@jupyter-widgets/base",
            "_view_module_version": "1.2.0",
            "_view_name": "StyleView",
            "description_width": ""
          }
        },
        "860310bfc47c496fbcdd4e3897932bf4": {
          "model_module": "@jupyter-widgets/controls",
          "model_module_version": "1.5.0",
          "model_name": "HTMLModel",
          "state": {
            "_dom_classes": [],
            "_model_module": "@jupyter-widgets/controls",
            "_model_module_version": "1.5.0",
            "_model_name": "HTMLModel",
            "_view_count": null,
            "_view_module": "@jupyter-widgets/controls",
            "_view_module_version": "1.5.0",
            "_view_name": "HTMLView",
            "description": "",
            "description_tooltip": null,
            "layout": "IPY_MODEL_b23f7f8351624ffa87b1c3ef72c55e2f",
            "placeholder": "​",
            "style": "IPY_MODEL_d7d7504e82b44de4a0fec9c9e7e2bf9b",
            "value": "Featurizing p: 100%"
          }
        },
        "8805f35301014a6592415cb881107f3e": {
          "model_module": "@jupyter-widgets/controls",
          "model_module_version": "1.5.0",
          "model_name": "ProgressStyleModel",
          "state": {
            "_model_module": "@jupyter-widgets/controls",
            "_model_module_version": "1.5.0",
            "_model_name": "ProgressStyleModel",
            "_view_count": null,
            "_view_module": "@jupyter-widgets/base",
            "_view_module_version": "1.2.0",
            "_view_name": "StyleView",
            "bar_color": null,
            "description_width": ""
          }
        },
        "8b615ddae49047d688600abb759e9e7d": {
          "model_module": "@jupyter-widgets/base",
          "model_module_version": "1.2.0",
          "model_name": "LayoutModel",
          "state": {
            "_model_module": "@jupyter-widgets/base",
            "_model_module_version": "1.2.0",
            "_model_name": "LayoutModel",
            "_view_count": null,
            "_view_module": "@jupyter-widgets/base",
            "_view_module_version": "1.2.0",
            "_view_name": "LayoutView",
            "align_content": null,
            "align_items": null,
            "align_self": null,
            "border": null,
            "bottom": null,
            "display": null,
            "flex": null,
            "flex_flow": null,
            "grid_area": null,
            "grid_auto_columns": null,
            "grid_auto_flow": null,
            "grid_auto_rows": null,
            "grid_column": null,
            "grid_gap": null,
            "grid_row": null,
            "grid_template_areas": null,
            "grid_template_columns": null,
            "grid_template_rows": null,
            "height": null,
            "justify_content": null,
            "justify_items": null,
            "left": null,
            "margin": null,
            "max_height": null,
            "max_width": null,
            "min_height": null,
            "min_width": null,
            "object_fit": null,
            "object_position": null,
            "order": null,
            "overflow": null,
            "overflow_x": null,
            "overflow_y": null,
            "padding": null,
            "right": null,
            "top": null,
            "visibility": null,
            "width": null
          }
        },
        "8befc5621af148ecaeee1662ea34d385": {
          "model_module": "@jupyter-widgets/controls",
          "model_module_version": "1.5.0",
          "model_name": "HTMLModel",
          "state": {
            "_dom_classes": [],
            "_model_module": "@jupyter-widgets/controls",
            "_model_module_version": "1.5.0",
            "_model_name": "HTMLModel",
            "_view_count": null,
            "_view_module": "@jupyter-widgets/controls",
            "_view_module_version": "1.5.0",
            "_view_name": "HTMLView",
            "description": "",
            "description_tooltip": null,
            "layout": "IPY_MODEL_733292d5199c48f28996150c39da5e48",
            "placeholder": "​",
            "style": "IPY_MODEL_0f44514ecbad4ffcbe0a1331b0c72293",
            "value": "Downloading (…)olve/main/merges.txt: 100%"
          }
        },
        "90f15b8868954c67ad62816dadc60900": {
          "model_module": "@jupyter-widgets/controls",
          "model_module_version": "1.5.0",
          "model_name": "DescriptionStyleModel",
          "state": {
            "_model_module": "@jupyter-widgets/controls",
            "_model_module_version": "1.5.0",
            "_model_name": "DescriptionStyleModel",
            "_view_count": null,
            "_view_module": "@jupyter-widgets/base",
            "_view_module_version": "1.2.0",
            "_view_name": "StyleView",
            "description_width": ""
          }
        },
        "90fd56ce917c4753acee60f750e4c244": {
          "model_module": "@jupyter-widgets/controls",
          "model_module_version": "1.5.0",
          "model_name": "HTMLModel",
          "state": {
            "_dom_classes": [],
            "_model_module": "@jupyter-widgets/controls",
            "_model_module_version": "1.5.0",
            "_model_name": "HTMLModel",
            "_view_count": null,
            "_view_module": "@jupyter-widgets/controls",
            "_view_module_version": "1.5.0",
            "_view_name": "HTMLView",
            "description": "",
            "description_tooltip": null,
            "layout": "IPY_MODEL_051e154140614d5a877214a57456aeae",
            "placeholder": "​",
            "style": "IPY_MODEL_b15342c3a6ee4d53b00c02caf788ded4",
            "value": " 1000/1000 [00:52&lt;00:00, 20.51it/s]"
          }
        },
        "9192224121f64ac9ac818d7d7d2832aa": {
          "model_module": "@jupyter-widgets/base",
          "model_module_version": "1.2.0",
          "model_name": "LayoutModel",
          "state": {
            "_model_module": "@jupyter-widgets/base",
            "_model_module_version": "1.2.0",
            "_model_name": "LayoutModel",
            "_view_count": null,
            "_view_module": "@jupyter-widgets/base",
            "_view_module_version": "1.2.0",
            "_view_name": "LayoutView",
            "align_content": null,
            "align_items": null,
            "align_self": null,
            "border": null,
            "bottom": null,
            "display": null,
            "flex": null,
            "flex_flow": null,
            "grid_area": null,
            "grid_auto_columns": null,
            "grid_auto_flow": null,
            "grid_auto_rows": null,
            "grid_column": null,
            "grid_gap": null,
            "grid_row": null,
            "grid_template_areas": null,
            "grid_template_columns": null,
            "grid_template_rows": null,
            "height": null,
            "justify_content": null,
            "justify_items": null,
            "left": null,
            "margin": null,
            "max_height": null,
            "max_width": null,
            "min_height": null,
            "min_width": null,
            "object_fit": null,
            "object_position": null,
            "order": null,
            "overflow": null,
            "overflow_x": null,
            "overflow_y": null,
            "padding": null,
            "right": null,
            "top": null,
            "visibility": null,
            "width": null
          }
        },
        "93bcceaf2d274ef4a0c04e3378440f0e": {
          "model_module": "@jupyter-widgets/controls",
          "model_module_version": "1.5.0",
          "model_name": "HBoxModel",
          "state": {
            "_dom_classes": [],
            "_model_module": "@jupyter-widgets/controls",
            "_model_module_version": "1.5.0",
            "_model_name": "HBoxModel",
            "_view_count": null,
            "_view_module": "@jupyter-widgets/controls",
            "_view_module_version": "1.5.0",
            "_view_name": "HBoxView",
            "box_style": "",
            "children": [
              "IPY_MODEL_99505653721845a98bf318cfee5e62d8",
              "IPY_MODEL_591aed7ad55742e1ab023a1a32691150",
              "IPY_MODEL_1ba2b9e5bac449f5a270e5bf5da0c005"
            ],
            "layout": "IPY_MODEL_6ae8f4843fc14028878039521d9d7d8f"
          }
        },
        "97505123ae7c4e25ab1de3ccb02f1fed": {
          "model_module": "@jupyter-widgets/controls",
          "model_module_version": "1.5.0",
          "model_name": "HTMLModel",
          "state": {
            "_dom_classes": [],
            "_model_module": "@jupyter-widgets/controls",
            "_model_module_version": "1.5.0",
            "_model_name": "HTMLModel",
            "_view_count": null,
            "_view_module": "@jupyter-widgets/controls",
            "_view_module_version": "1.5.0",
            "_view_name": "HTMLView",
            "description": "",
            "description_tooltip": null,
            "layout": "IPY_MODEL_a3844d23045d4b9981d6597b2cd9735d",
            "placeholder": "​",
            "style": "IPY_MODEL_fbfa6e8698d246b6a65e89a4d743eeba",
            "value": "Featurizing q: 100%"
          }
        },
        "9937211a58914388a6267a1d53b3b182": {
          "model_module": "@jupyter-widgets/controls",
          "model_module_version": "1.5.0",
          "model_name": "DescriptionStyleModel",
          "state": {
            "_model_module": "@jupyter-widgets/controls",
            "_model_module_version": "1.5.0",
            "_model_name": "DescriptionStyleModel",
            "_view_count": null,
            "_view_module": "@jupyter-widgets/base",
            "_view_module_version": "1.2.0",
            "_view_name": "StyleView",
            "description_width": ""
          }
        },
        "99505653721845a98bf318cfee5e62d8": {
          "model_module": "@jupyter-widgets/controls",
          "model_module_version": "1.5.0",
          "model_name": "HTMLModel",
          "state": {
            "_dom_classes": [],
            "_model_module": "@jupyter-widgets/controls",
            "_model_module_version": "1.5.0",
            "_model_name": "HTMLModel",
            "_view_count": null,
            "_view_module": "@jupyter-widgets/controls",
            "_view_module_version": "1.5.0",
            "_view_name": "HTMLView",
            "description": "",
            "description_tooltip": null,
            "layout": "IPY_MODEL_dbd41eef37424829a0195e3e6e76a9fe",
            "placeholder": "​",
            "style": "IPY_MODEL_1369193be9114d8392a43b292c404854",
            "value": "Downloading (…)/main/tokenizer.json: 100%"
          }
        },
        "9969f8a30e4a450396faf6fd06d8305f": {
          "model_module": "@jupyter-widgets/controls",
          "model_module_version": "1.5.0",
          "model_name": "FloatProgressModel",
          "state": {
            "_dom_classes": [],
            "_model_module": "@jupyter-widgets/controls",
            "_model_module_version": "1.5.0",
            "_model_name": "FloatProgressModel",
            "_view_count": null,
            "_view_module": "@jupyter-widgets/controls",
            "_view_module_version": "1.5.0",
            "_view_name": "ProgressView",
            "bar_style": "success",
            "description": "",
            "description_tooltip": null,
            "layout": "IPY_MODEL_536d712335cc4f94854b56c3250de777",
            "max": 1000,
            "min": 0,
            "orientation": "horizontal",
            "style": "IPY_MODEL_3678e35325554955aa4ac2c399f0c0fc",
            "value": 1000
          }
        },
        "9c599473a5fd43f8a3f859b11d2c3604": {
          "model_module": "@jupyter-widgets/controls",
          "model_module_version": "1.5.0",
          "model_name": "HTMLModel",
          "state": {
            "_dom_classes": [],
            "_model_module": "@jupyter-widgets/controls",
            "_model_module_version": "1.5.0",
            "_model_name": "HTMLModel",
            "_view_count": null,
            "_view_module": "@jupyter-widgets/controls",
            "_view_module_version": "1.5.0",
            "_view_name": "HTMLView",
            "description": "",
            "description_tooltip": null,
            "layout": "IPY_MODEL_f4d6a598e66e4d78a55b5ec10b594f6b",
            "placeholder": "​",
            "style": "IPY_MODEL_9d51d03ee7864f748bfd40ce9a509990",
            "value": " 2/2 [00:01&lt;00:00,  1.58it/s]"
          }
        },
        "9c5f23295cfe44d7822bfc8a4df90768": {
          "model_module": "@jupyter-widgets/controls",
          "model_module_version": "1.5.0",
          "model_name": "HBoxModel",
          "state": {
            "_dom_classes": [],
            "_model_module": "@jupyter-widgets/controls",
            "_model_module_version": "1.5.0",
            "_model_name": "HBoxModel",
            "_view_count": null,
            "_view_module": "@jupyter-widgets/controls",
            "_view_module_version": "1.5.0",
            "_view_name": "HBoxView",
            "box_style": "",
            "children": [
              "IPY_MODEL_b9e3bcb215ac4d8fa7c5eadcd0ba8f8a",
              "IPY_MODEL_dda2fa113e5246eda8c580b6cb14b8d8",
              "IPY_MODEL_ed7901c8b91d4fdd8e6439a3849e5f3c"
            ],
            "layout": "IPY_MODEL_bfe0e012115f4824af40d49c387d5545"
          }
        },
        "9d51d03ee7864f748bfd40ce9a509990": {
          "model_module": "@jupyter-widgets/controls",
          "model_module_version": "1.5.0",
          "model_name": "DescriptionStyleModel",
          "state": {
            "_model_module": "@jupyter-widgets/controls",
            "_model_module_version": "1.5.0",
            "_model_name": "DescriptionStyleModel",
            "_view_count": null,
            "_view_module": "@jupyter-widgets/base",
            "_view_module_version": "1.2.0",
            "_view_name": "StyleView",
            "description_width": ""
          }
        },
        "9e0c874fe8a946d4ad6ab54645c11dac": {
          "model_module": "@jupyter-widgets/base",
          "model_module_version": "1.2.0",
          "model_name": "LayoutModel",
          "state": {
            "_model_module": "@jupyter-widgets/base",
            "_model_module_version": "1.2.0",
            "_model_name": "LayoutModel",
            "_view_count": null,
            "_view_module": "@jupyter-widgets/base",
            "_view_module_version": "1.2.0",
            "_view_name": "LayoutView",
            "align_content": null,
            "align_items": null,
            "align_self": null,
            "border": null,
            "bottom": null,
            "display": null,
            "flex": null,
            "flex_flow": null,
            "grid_area": null,
            "grid_auto_columns": null,
            "grid_auto_flow": null,
            "grid_auto_rows": null,
            "grid_column": null,
            "grid_gap": null,
            "grid_row": null,
            "grid_template_areas": null,
            "grid_template_columns": null,
            "grid_template_rows": null,
            "height": null,
            "justify_content": null,
            "justify_items": null,
            "left": null,
            "margin": null,
            "max_height": null,
            "max_width": null,
            "min_height": null,
            "min_width": null,
            "object_fit": null,
            "object_position": null,
            "order": null,
            "overflow": null,
            "overflow_x": null,
            "overflow_y": null,
            "padding": null,
            "right": null,
            "top": null,
            "visibility": null,
            "width": null
          }
        },
        "9f2c591add2c417a8779f456b511983d": {
          "model_module": "@jupyter-widgets/base",
          "model_module_version": "1.2.0",
          "model_name": "LayoutModel",
          "state": {
            "_model_module": "@jupyter-widgets/base",
            "_model_module_version": "1.2.0",
            "_model_name": "LayoutModel",
            "_view_count": null,
            "_view_module": "@jupyter-widgets/base",
            "_view_module_version": "1.2.0",
            "_view_name": "LayoutView",
            "align_content": null,
            "align_items": null,
            "align_self": null,
            "border": null,
            "bottom": null,
            "display": null,
            "flex": null,
            "flex_flow": null,
            "grid_area": null,
            "grid_auto_columns": null,
            "grid_auto_flow": null,
            "grid_auto_rows": null,
            "grid_column": null,
            "grid_gap": null,
            "grid_row": null,
            "grid_template_areas": null,
            "grid_template_columns": null,
            "grid_template_rows": null,
            "height": null,
            "justify_content": null,
            "justify_items": null,
            "left": null,
            "margin": null,
            "max_height": null,
            "max_width": null,
            "min_height": null,
            "min_width": null,
            "object_fit": null,
            "object_position": null,
            "order": null,
            "overflow": null,
            "overflow_x": null,
            "overflow_y": null,
            "padding": null,
            "right": null,
            "top": null,
            "visibility": null,
            "width": null
          }
        },
        "9ff5c6a7619646f5b72393de2758110f": {
          "model_module": "@jupyter-widgets/controls",
          "model_module_version": "1.5.0",
          "model_name": "HTMLModel",
          "state": {
            "_dom_classes": [],
            "_model_module": "@jupyter-widgets/controls",
            "_model_module_version": "1.5.0",
            "_model_name": "HTMLModel",
            "_view_count": null,
            "_view_module": "@jupyter-widgets/controls",
            "_view_module_version": "1.5.0",
            "_view_name": "HTMLView",
            "description": "",
            "description_tooltip": null,
            "layout": "IPY_MODEL_2c84a218205e49239d225e80547e41b5",
            "placeholder": "​",
            "style": "IPY_MODEL_014a4e5abcc143069dee1ebe572b9996",
            "value": " 1.04M/1.04M [00:00&lt;00:00, 5.59MB/s]"
          }
        },
        "a2014ec33d484e82b80f6ae52127b1cc": {
          "model_module": "@jupyter-widgets/base",
          "model_module_version": "1.2.0",
          "model_name": "LayoutModel",
          "state": {
            "_model_module": "@jupyter-widgets/base",
            "_model_module_version": "1.2.0",
            "_model_name": "LayoutModel",
            "_view_count": null,
            "_view_module": "@jupyter-widgets/base",
            "_view_module_version": "1.2.0",
            "_view_name": "LayoutView",
            "align_content": null,
            "align_items": null,
            "align_self": null,
            "border": null,
            "bottom": null,
            "display": null,
            "flex": null,
            "flex_flow": null,
            "grid_area": null,
            "grid_auto_columns": null,
            "grid_auto_flow": null,
            "grid_auto_rows": null,
            "grid_column": null,
            "grid_gap": null,
            "grid_row": null,
            "grid_template_areas": null,
            "grid_template_columns": null,
            "grid_template_rows": null,
            "height": null,
            "justify_content": null,
            "justify_items": null,
            "left": null,
            "margin": null,
            "max_height": null,
            "max_width": null,
            "min_height": null,
            "min_width": null,
            "object_fit": null,
            "object_position": null,
            "order": null,
            "overflow": null,
            "overflow_x": null,
            "overflow_y": null,
            "padding": null,
            "right": null,
            "top": null,
            "visibility": null,
            "width": null
          }
        },
        "a3844d23045d4b9981d6597b2cd9735d": {
          "model_module": "@jupyter-widgets/base",
          "model_module_version": "1.2.0",
          "model_name": "LayoutModel",
          "state": {
            "_model_module": "@jupyter-widgets/base",
            "_model_module_version": "1.2.0",
            "_model_name": "LayoutModel",
            "_view_count": null,
            "_view_module": "@jupyter-widgets/base",
            "_view_module_version": "1.2.0",
            "_view_name": "LayoutView",
            "align_content": null,
            "align_items": null,
            "align_self": null,
            "border": null,
            "bottom": null,
            "display": null,
            "flex": null,
            "flex_flow": null,
            "grid_area": null,
            "grid_auto_columns": null,
            "grid_auto_flow": null,
            "grid_auto_rows": null,
            "grid_column": null,
            "grid_gap": null,
            "grid_row": null,
            "grid_template_areas": null,
            "grid_template_columns": null,
            "grid_template_rows": null,
            "height": null,
            "justify_content": null,
            "justify_items": null,
            "left": null,
            "margin": null,
            "max_height": null,
            "max_width": null,
            "min_height": null,
            "min_width": null,
            "object_fit": null,
            "object_position": null,
            "order": null,
            "overflow": null,
            "overflow_x": null,
            "overflow_y": null,
            "padding": null,
            "right": null,
            "top": null,
            "visibility": null,
            "width": null
          }
        },
        "a51329ae81e54fc08fd4f0e60ec1d9ba": {
          "model_module": "@jupyter-widgets/controls",
          "model_module_version": "1.5.0",
          "model_name": "HBoxModel",
          "state": {
            "_dom_classes": [],
            "_model_module": "@jupyter-widgets/controls",
            "_model_module_version": "1.5.0",
            "_model_name": "HBoxModel",
            "_view_count": null,
            "_view_module": "@jupyter-widgets/controls",
            "_view_module_version": "1.5.0",
            "_view_name": "HBoxView",
            "box_style": "",
            "children": [
              "IPY_MODEL_860310bfc47c496fbcdd4e3897932bf4",
              "IPY_MODEL_1d2e013d895a4251a5970dd59a23d043",
              "IPY_MODEL_a733c3d5cbc7491883b46046ac7a53d8"
            ],
            "layout": "IPY_MODEL_62ac47d24bb5412ab3bc71422641af54"
          }
        },
        "a733c3d5cbc7491883b46046ac7a53d8": {
          "model_module": "@jupyter-widgets/controls",
          "model_module_version": "1.5.0",
          "model_name": "HTMLModel",
          "state": {
            "_dom_classes": [],
            "_model_module": "@jupyter-widgets/controls",
            "_model_module_version": "1.5.0",
            "_model_name": "HTMLModel",
            "_view_count": null,
            "_view_module": "@jupyter-widgets/controls",
            "_view_module_version": "1.5.0",
            "_view_name": "HTMLView",
            "description": "",
            "description_tooltip": null,
            "layout": "IPY_MODEL_4a3383f91d364be9a0fdbb763c984205",
            "placeholder": "​",
            "style": "IPY_MODEL_5fef9f1f15e3479598796599e8cbcb02",
            "value": " 1000/1000 [00:54&lt;00:00, 18.24it/s]"
          }
        },
        "aa355144f9bf47c68d0bf86bc9415d26": {
          "model_module": "@jupyter-widgets/base",
          "model_module_version": "1.2.0",
          "model_name": "LayoutModel",
          "state": {
            "_model_module": "@jupyter-widgets/base",
            "_model_module_version": "1.2.0",
            "_model_name": "LayoutModel",
            "_view_count": null,
            "_view_module": "@jupyter-widgets/base",
            "_view_module_version": "1.2.0",
            "_view_name": "LayoutView",
            "align_content": null,
            "align_items": null,
            "align_self": null,
            "border": null,
            "bottom": null,
            "display": null,
            "flex": null,
            "flex_flow": null,
            "grid_area": null,
            "grid_auto_columns": null,
            "grid_auto_flow": null,
            "grid_auto_rows": null,
            "grid_column": null,
            "grid_gap": null,
            "grid_row": null,
            "grid_template_areas": null,
            "grid_template_columns": null,
            "grid_template_rows": null,
            "height": null,
            "justify_content": null,
            "justify_items": null,
            "left": null,
            "margin": null,
            "max_height": null,
            "max_width": null,
            "min_height": null,
            "min_width": null,
            "object_fit": null,
            "object_position": null,
            "order": null,
            "overflow": null,
            "overflow_x": null,
            "overflow_y": null,
            "padding": null,
            "right": null,
            "top": null,
            "visibility": null,
            "width": null
          }
        },
        "acb49c5099b24399b6c16e9b7313f363": {
          "model_module": "@jupyter-widgets/controls",
          "model_module_version": "1.5.0",
          "model_name": "ProgressStyleModel",
          "state": {
            "_model_module": "@jupyter-widgets/controls",
            "_model_module_version": "1.5.0",
            "_model_name": "ProgressStyleModel",
            "_view_count": null,
            "_view_module": "@jupyter-widgets/base",
            "_view_module_version": "1.2.0",
            "_view_name": "StyleView",
            "bar_color": null,
            "description_width": ""
          }
        },
        "b15342c3a6ee4d53b00c02caf788ded4": {
          "model_module": "@jupyter-widgets/controls",
          "model_module_version": "1.5.0",
          "model_name": "DescriptionStyleModel",
          "state": {
            "_model_module": "@jupyter-widgets/controls",
            "_model_module_version": "1.5.0",
            "_model_name": "DescriptionStyleModel",
            "_view_count": null,
            "_view_module": "@jupyter-widgets/base",
            "_view_module_version": "1.2.0",
            "_view_name": "StyleView",
            "description_width": ""
          }
        },
        "b23f7f8351624ffa87b1c3ef72c55e2f": {
          "model_module": "@jupyter-widgets/base",
          "model_module_version": "1.2.0",
          "model_name": "LayoutModel",
          "state": {
            "_model_module": "@jupyter-widgets/base",
            "_model_module_version": "1.2.0",
            "_model_name": "LayoutModel",
            "_view_count": null,
            "_view_module": "@jupyter-widgets/base",
            "_view_module_version": "1.2.0",
            "_view_name": "LayoutView",
            "align_content": null,
            "align_items": null,
            "align_self": null,
            "border": null,
            "bottom": null,
            "display": null,
            "flex": null,
            "flex_flow": null,
            "grid_area": null,
            "grid_auto_columns": null,
            "grid_auto_flow": null,
            "grid_auto_rows": null,
            "grid_column": null,
            "grid_gap": null,
            "grid_row": null,
            "grid_template_areas": null,
            "grid_template_columns": null,
            "grid_template_rows": null,
            "height": null,
            "justify_content": null,
            "justify_items": null,
            "left": null,
            "margin": null,
            "max_height": null,
            "max_width": null,
            "min_height": null,
            "min_width": null,
            "object_fit": null,
            "object_position": null,
            "order": null,
            "overflow": null,
            "overflow_x": null,
            "overflow_y": null,
            "padding": null,
            "right": null,
            "top": null,
            "visibility": null,
            "width": null
          }
        },
        "b5e70fe1c90748d6a7460fb7bd28b29f": {
          "model_module": "@jupyter-widgets/controls",
          "model_module_version": "1.5.0",
          "model_name": "HTMLModel",
          "state": {
            "_dom_classes": [],
            "_model_module": "@jupyter-widgets/controls",
            "_model_module_version": "1.5.0",
            "_model_name": "HTMLModel",
            "_view_count": null,
            "_view_module": "@jupyter-widgets/controls",
            "_view_module_version": "1.5.0",
            "_view_name": "HTMLView",
            "description": "",
            "description_tooltip": null,
            "layout": "IPY_MODEL_40680b1e6d3c4e33b53e62f869d66675",
            "placeholder": "​",
            "style": "IPY_MODEL_90f15b8868954c67ad62816dadc60900",
            "value": "Featurizing q: 100%"
          }
        },
        "b83460fdeb06475a800088c17f7c0500": {
          "model_module": "@jupyter-widgets/base",
          "model_module_version": "1.2.0",
          "model_name": "LayoutModel",
          "state": {
            "_model_module": "@jupyter-widgets/base",
            "_model_module_version": "1.2.0",
            "_model_name": "LayoutModel",
            "_view_count": null,
            "_view_module": "@jupyter-widgets/base",
            "_view_module_version": "1.2.0",
            "_view_name": "LayoutView",
            "align_content": null,
            "align_items": null,
            "align_self": null,
            "border": null,
            "bottom": null,
            "display": null,
            "flex": null,
            "flex_flow": null,
            "grid_area": null,
            "grid_auto_columns": null,
            "grid_auto_flow": null,
            "grid_auto_rows": null,
            "grid_column": null,
            "grid_gap": null,
            "grid_row": null,
            "grid_template_areas": null,
            "grid_template_columns": null,
            "grid_template_rows": null,
            "height": null,
            "justify_content": null,
            "justify_items": null,
            "left": null,
            "margin": null,
            "max_height": null,
            "max_width": null,
            "min_height": null,
            "min_width": null,
            "object_fit": null,
            "object_position": null,
            "order": null,
            "overflow": null,
            "overflow_x": null,
            "overflow_y": null,
            "padding": null,
            "right": null,
            "top": null,
            "visibility": null,
            "width": null
          }
        },
        "b9287092441c4f9db0f9fc2486391f3e": {
          "model_module": "@jupyter-widgets/base",
          "model_module_version": "1.2.0",
          "model_name": "LayoutModel",
          "state": {
            "_model_module": "@jupyter-widgets/base",
            "_model_module_version": "1.2.0",
            "_model_name": "LayoutModel",
            "_view_count": null,
            "_view_module": "@jupyter-widgets/base",
            "_view_module_version": "1.2.0",
            "_view_name": "LayoutView",
            "align_content": null,
            "align_items": null,
            "align_self": null,
            "border": null,
            "bottom": null,
            "display": null,
            "flex": null,
            "flex_flow": null,
            "grid_area": null,
            "grid_auto_columns": null,
            "grid_auto_flow": null,
            "grid_auto_rows": null,
            "grid_column": null,
            "grid_gap": null,
            "grid_row": null,
            "grid_template_areas": null,
            "grid_template_columns": null,
            "grid_template_rows": null,
            "height": null,
            "justify_content": null,
            "justify_items": null,
            "left": null,
            "margin": null,
            "max_height": null,
            "max_width": null,
            "min_height": null,
            "min_width": null,
            "object_fit": null,
            "object_position": null,
            "order": null,
            "overflow": null,
            "overflow_x": null,
            "overflow_y": null,
            "padding": null,
            "right": null,
            "top": null,
            "visibility": null,
            "width": null
          }
        },
        "b9e0d6f9667b4c5e8d7cfc6de2ad0e81": {
          "model_module": "@jupyter-widgets/base",
          "model_module_version": "1.2.0",
          "model_name": "LayoutModel",
          "state": {
            "_model_module": "@jupyter-widgets/base",
            "_model_module_version": "1.2.0",
            "_model_name": "LayoutModel",
            "_view_count": null,
            "_view_module": "@jupyter-widgets/base",
            "_view_module_version": "1.2.0",
            "_view_name": "LayoutView",
            "align_content": null,
            "align_items": null,
            "align_self": null,
            "border": null,
            "bottom": null,
            "display": null,
            "flex": null,
            "flex_flow": null,
            "grid_area": null,
            "grid_auto_columns": null,
            "grid_auto_flow": null,
            "grid_auto_rows": null,
            "grid_column": null,
            "grid_gap": null,
            "grid_row": null,
            "grid_template_areas": null,
            "grid_template_columns": null,
            "grid_template_rows": null,
            "height": null,
            "justify_content": null,
            "justify_items": null,
            "left": null,
            "margin": null,
            "max_height": null,
            "max_width": null,
            "min_height": null,
            "min_width": null,
            "object_fit": null,
            "object_position": null,
            "order": null,
            "overflow": null,
            "overflow_x": null,
            "overflow_y": null,
            "padding": null,
            "right": null,
            "top": null,
            "visibility": null,
            "width": null
          }
        },
        "b9e3bcb215ac4d8fa7c5eadcd0ba8f8a": {
          "model_module": "@jupyter-widgets/controls",
          "model_module_version": "1.5.0",
          "model_name": "HTMLModel",
          "state": {
            "_dom_classes": [],
            "_model_module": "@jupyter-widgets/controls",
            "_model_module_version": "1.5.0",
            "_model_name": "HTMLModel",
            "_view_count": null,
            "_view_module": "@jupyter-widgets/controls",
            "_view_module_version": "1.5.0",
            "_view_name": "HTMLView",
            "description": "",
            "description_tooltip": null,
            "layout": "IPY_MODEL_6b397c6143814a68ae70069b87b790fa",
            "placeholder": "​",
            "style": "IPY_MODEL_23aba8fca3a14e359e545bb664878f5d",
            "value": "Downloading (…)&quot;pytorch_model.bin&quot;;: 100%"
          }
        },
        "bcdb8b84ebb2434898beb5187823336a": {
          "model_module": "@jupyter-widgets/controls",
          "model_module_version": "1.5.0",
          "model_name": "FloatProgressModel",
          "state": {
            "_dom_classes": [],
            "_model_module": "@jupyter-widgets/controls",
            "_model_module_version": "1.5.0",
            "_model_name": "FloatProgressModel",
            "_view_count": null,
            "_view_module": "@jupyter-widgets/controls",
            "_view_module_version": "1.5.0",
            "_view_name": "ProgressView",
            "bar_style": "success",
            "description": "",
            "description_tooltip": null,
            "layout": "IPY_MODEL_7ade6688c86c4c3bbfe5cdb7b10f2e26",
            "max": 456318,
            "min": 0,
            "orientation": "horizontal",
            "style": "IPY_MODEL_545c8b5db0ad4586ae47657310e4921f",
            "value": 456318
          }
        },
        "bfe0e012115f4824af40d49c387d5545": {
          "model_module": "@jupyter-widgets/base",
          "model_module_version": "1.2.0",
          "model_name": "LayoutModel",
          "state": {
            "_model_module": "@jupyter-widgets/base",
            "_model_module_version": "1.2.0",
            "_model_name": "LayoutModel",
            "_view_count": null,
            "_view_module": "@jupyter-widgets/base",
            "_view_module_version": "1.2.0",
            "_view_name": "LayoutView",
            "align_content": null,
            "align_items": null,
            "align_self": null,
            "border": null,
            "bottom": null,
            "display": null,
            "flex": null,
            "flex_flow": null,
            "grid_area": null,
            "grid_auto_columns": null,
            "grid_auto_flow": null,
            "grid_auto_rows": null,
            "grid_column": null,
            "grid_gap": null,
            "grid_row": null,
            "grid_template_areas": null,
            "grid_template_columns": null,
            "grid_template_rows": null,
            "height": null,
            "justify_content": null,
            "justify_items": null,
            "left": null,
            "margin": null,
            "max_height": null,
            "max_width": null,
            "min_height": null,
            "min_width": null,
            "object_fit": null,
            "object_position": null,
            "order": null,
            "overflow": null,
            "overflow_x": null,
            "overflow_y": null,
            "padding": null,
            "right": null,
            "top": null,
            "visibility": null,
            "width": null
          }
        },
        "c426e75be4eb47feb48d8f07bb0366b7": {
          "model_module": "@jupyter-widgets/controls",
          "model_module_version": "1.5.0",
          "model_name": "ProgressStyleModel",
          "state": {
            "_model_module": "@jupyter-widgets/controls",
            "_model_module_version": "1.5.0",
            "_model_name": "ProgressStyleModel",
            "_view_count": null,
            "_view_module": "@jupyter-widgets/base",
            "_view_module_version": "1.2.0",
            "_view_name": "StyleView",
            "bar_color": null,
            "description_width": ""
          }
        },
        "c6b9682b49e445f0899457d2257660f4": {
          "model_module": "@jupyter-widgets/base",
          "model_module_version": "1.2.0",
          "model_name": "LayoutModel",
          "state": {
            "_model_module": "@jupyter-widgets/base",
            "_model_module_version": "1.2.0",
            "_model_name": "LayoutModel",
            "_view_count": null,
            "_view_module": "@jupyter-widgets/base",
            "_view_module_version": "1.2.0",
            "_view_name": "LayoutView",
            "align_content": null,
            "align_items": null,
            "align_self": null,
            "border": null,
            "bottom": null,
            "display": null,
            "flex": null,
            "flex_flow": null,
            "grid_area": null,
            "grid_auto_columns": null,
            "grid_auto_flow": null,
            "grid_auto_rows": null,
            "grid_column": null,
            "grid_gap": null,
            "grid_row": null,
            "grid_template_areas": null,
            "grid_template_columns": null,
            "grid_template_rows": null,
            "height": null,
            "justify_content": null,
            "justify_items": null,
            "left": null,
            "margin": null,
            "max_height": null,
            "max_width": null,
            "min_height": null,
            "min_width": null,
            "object_fit": null,
            "object_position": null,
            "order": null,
            "overflow": null,
            "overflow_x": null,
            "overflow_y": null,
            "padding": null,
            "right": null,
            "top": null,
            "visibility": null,
            "width": null
          }
        },
        "c82e89c4b16b4308b22d282df1ee35bd": {
          "model_module": "@jupyter-widgets/base",
          "model_module_version": "1.2.0",
          "model_name": "LayoutModel",
          "state": {
            "_model_module": "@jupyter-widgets/base",
            "_model_module_version": "1.2.0",
            "_model_name": "LayoutModel",
            "_view_count": null,
            "_view_module": "@jupyter-widgets/base",
            "_view_module_version": "1.2.0",
            "_view_name": "LayoutView",
            "align_content": null,
            "align_items": null,
            "align_self": null,
            "border": null,
            "bottom": null,
            "display": null,
            "flex": null,
            "flex_flow": null,
            "grid_area": null,
            "grid_auto_columns": null,
            "grid_auto_flow": null,
            "grid_auto_rows": null,
            "grid_column": null,
            "grid_gap": null,
            "grid_row": null,
            "grid_template_areas": null,
            "grid_template_columns": null,
            "grid_template_rows": null,
            "height": null,
            "justify_content": null,
            "justify_items": null,
            "left": null,
            "margin": null,
            "max_height": null,
            "max_width": null,
            "min_height": null,
            "min_width": null,
            "object_fit": null,
            "object_position": null,
            "order": null,
            "overflow": null,
            "overflow_x": null,
            "overflow_y": null,
            "padding": null,
            "right": null,
            "top": null,
            "visibility": null,
            "width": null
          }
        },
        "cb7d1171b0d142028c940a318eb569be": {
          "model_module": "@jupyter-widgets/controls",
          "model_module_version": "1.5.0",
          "model_name": "FloatProgressModel",
          "state": {
            "_dom_classes": [],
            "_model_module": "@jupyter-widgets/controls",
            "_model_module_version": "1.5.0",
            "_model_name": "FloatProgressModel",
            "_view_count": null,
            "_view_module": "@jupyter-widgets/controls",
            "_view_module_version": "1.5.0",
            "_view_name": "ProgressView",
            "bar_style": "success",
            "description": "",
            "description_tooltip": null,
            "layout": "IPY_MODEL_f40c7489759b4521b5b751212dd86a09",
            "max": 1000,
            "min": 0,
            "orientation": "horizontal",
            "style": "IPY_MODEL_8805f35301014a6592415cb881107f3e",
            "value": 1000
          }
        },
        "cbc8625232c8490491735722b96e6641": {
          "model_module": "@jupyter-widgets/base",
          "model_module_version": "1.2.0",
          "model_name": "LayoutModel",
          "state": {
            "_model_module": "@jupyter-widgets/base",
            "_model_module_version": "1.2.0",
            "_model_name": "LayoutModel",
            "_view_count": null,
            "_view_module": "@jupyter-widgets/base",
            "_view_module_version": "1.2.0",
            "_view_name": "LayoutView",
            "align_content": null,
            "align_items": null,
            "align_self": null,
            "border": null,
            "bottom": null,
            "display": null,
            "flex": null,
            "flex_flow": null,
            "grid_area": null,
            "grid_auto_columns": null,
            "grid_auto_flow": null,
            "grid_auto_rows": null,
            "grid_column": null,
            "grid_gap": null,
            "grid_row": null,
            "grid_template_areas": null,
            "grid_template_columns": null,
            "grid_template_rows": null,
            "height": null,
            "justify_content": null,
            "justify_items": null,
            "left": null,
            "margin": null,
            "max_height": null,
            "max_width": null,
            "min_height": null,
            "min_width": null,
            "object_fit": null,
            "object_position": null,
            "order": null,
            "overflow": null,
            "overflow_x": null,
            "overflow_y": null,
            "padding": null,
            "right": null,
            "top": null,
            "visibility": null,
            "width": null
          }
        },
        "cff52cabcefc4a5dbe69cf6e59566b7f": {
          "model_module": "@jupyter-widgets/base",
          "model_module_version": "1.2.0",
          "model_name": "LayoutModel",
          "state": {
            "_model_module": "@jupyter-widgets/base",
            "_model_module_version": "1.2.0",
            "_model_name": "LayoutModel",
            "_view_count": null,
            "_view_module": "@jupyter-widgets/base",
            "_view_module_version": "1.2.0",
            "_view_name": "LayoutView",
            "align_content": null,
            "align_items": null,
            "align_self": null,
            "border": null,
            "bottom": null,
            "display": null,
            "flex": null,
            "flex_flow": null,
            "grid_area": null,
            "grid_auto_columns": null,
            "grid_auto_flow": null,
            "grid_auto_rows": null,
            "grid_column": null,
            "grid_gap": null,
            "grid_row": null,
            "grid_template_areas": null,
            "grid_template_columns": null,
            "grid_template_rows": null,
            "height": null,
            "justify_content": null,
            "justify_items": null,
            "left": null,
            "margin": null,
            "max_height": null,
            "max_width": null,
            "min_height": null,
            "min_width": null,
            "object_fit": null,
            "object_position": null,
            "order": null,
            "overflow": null,
            "overflow_x": null,
            "overflow_y": null,
            "padding": null,
            "right": null,
            "top": null,
            "visibility": null,
            "width": null
          }
        },
        "d1f8521d01184c64a05d9a5878456d69": {
          "model_module": "@jupyter-widgets/base",
          "model_module_version": "1.2.0",
          "model_name": "LayoutModel",
          "state": {
            "_model_module": "@jupyter-widgets/base",
            "_model_module_version": "1.2.0",
            "_model_name": "LayoutModel",
            "_view_count": null,
            "_view_module": "@jupyter-widgets/base",
            "_view_module_version": "1.2.0",
            "_view_name": "LayoutView",
            "align_content": null,
            "align_items": null,
            "align_self": null,
            "border": null,
            "bottom": null,
            "display": null,
            "flex": null,
            "flex_flow": null,
            "grid_area": null,
            "grid_auto_columns": null,
            "grid_auto_flow": null,
            "grid_auto_rows": null,
            "grid_column": null,
            "grid_gap": null,
            "grid_row": null,
            "grid_template_areas": null,
            "grid_template_columns": null,
            "grid_template_rows": null,
            "height": null,
            "justify_content": null,
            "justify_items": null,
            "left": null,
            "margin": null,
            "max_height": null,
            "max_width": null,
            "min_height": null,
            "min_width": null,
            "object_fit": null,
            "object_position": null,
            "order": null,
            "overflow": null,
            "overflow_x": null,
            "overflow_y": null,
            "padding": null,
            "right": null,
            "top": null,
            "visibility": null,
            "width": null
          }
        },
        "d6f46d7ce3a4423783f0d0b655631eab": {
          "model_module": "@jupyter-widgets/base",
          "model_module_version": "1.2.0",
          "model_name": "LayoutModel",
          "state": {
            "_model_module": "@jupyter-widgets/base",
            "_model_module_version": "1.2.0",
            "_model_name": "LayoutModel",
            "_view_count": null,
            "_view_module": "@jupyter-widgets/base",
            "_view_module_version": "1.2.0",
            "_view_name": "LayoutView",
            "align_content": null,
            "align_items": null,
            "align_self": null,
            "border": null,
            "bottom": null,
            "display": null,
            "flex": null,
            "flex_flow": null,
            "grid_area": null,
            "grid_auto_columns": null,
            "grid_auto_flow": null,
            "grid_auto_rows": null,
            "grid_column": null,
            "grid_gap": null,
            "grid_row": null,
            "grid_template_areas": null,
            "grid_template_columns": null,
            "grid_template_rows": null,
            "height": null,
            "justify_content": null,
            "justify_items": null,
            "left": null,
            "margin": null,
            "max_height": null,
            "max_width": null,
            "min_height": null,
            "min_width": null,
            "object_fit": null,
            "object_position": null,
            "order": null,
            "overflow": null,
            "overflow_x": null,
            "overflow_y": null,
            "padding": null,
            "right": null,
            "top": null,
            "visibility": null,
            "width": null
          }
        },
        "d7d7504e82b44de4a0fec9c9e7e2bf9b": {
          "model_module": "@jupyter-widgets/controls",
          "model_module_version": "1.5.0",
          "model_name": "DescriptionStyleModel",
          "state": {
            "_model_module": "@jupyter-widgets/controls",
            "_model_module_version": "1.5.0",
            "_model_name": "DescriptionStyleModel",
            "_view_count": null,
            "_view_module": "@jupyter-widgets/base",
            "_view_module_version": "1.2.0",
            "_view_name": "StyleView",
            "description_width": ""
          }
        },
        "d96c60a5c2b949209691028b1b3d02ce": {
          "model_module": "@jupyter-widgets/controls",
          "model_module_version": "1.5.0",
          "model_name": "HTMLModel",
          "state": {
            "_dom_classes": [],
            "_model_module": "@jupyter-widgets/controls",
            "_model_module_version": "1.5.0",
            "_model_name": "HTMLModel",
            "_view_count": null,
            "_view_module": "@jupyter-widgets/controls",
            "_view_module_version": "1.5.0",
            "_view_name": "HTMLView",
            "description": "",
            "description_tooltip": null,
            "layout": "IPY_MODEL_378a4bf1ac9d4b598e340216f42dfa3f",
            "placeholder": "​",
            "style": "IPY_MODEL_9937211a58914388a6267a1d53b3b182",
            "value": "Featurizing p: 100%"
          }
        },
        "d9fe575dac934ff88c8422145ec0daf8": {
          "model_module": "@jupyter-widgets/controls",
          "model_module_version": "1.5.0",
          "model_name": "HTMLModel",
          "state": {
            "_dom_classes": [],
            "_model_module": "@jupyter-widgets/controls",
            "_model_module_version": "1.5.0",
            "_model_name": "HTMLModel",
            "_view_count": null,
            "_view_module": "@jupyter-widgets/controls",
            "_view_module_version": "1.5.0",
            "_view_name": "HTMLView",
            "description": "",
            "description_tooltip": null,
            "layout": "IPY_MODEL_b9287092441c4f9db0f9fc2486391f3e",
            "placeholder": "​",
            "style": "IPY_MODEL_47f3b4d56ee7490b94f35bc0ba4f08dc",
            "value": "Downloading builder script: 100%"
          }
        },
        "da4a2e289ced4eaa9533a0da14bd0b0b": {
          "model_module": "@jupyter-widgets/base",
          "model_module_version": "1.2.0",
          "model_name": "LayoutModel",
          "state": {
            "_model_module": "@jupyter-widgets/base",
            "_model_module_version": "1.2.0",
            "_model_name": "LayoutModel",
            "_view_count": null,
            "_view_module": "@jupyter-widgets/base",
            "_view_module_version": "1.2.0",
            "_view_name": "LayoutView",
            "align_content": null,
            "align_items": null,
            "align_self": null,
            "border": null,
            "bottom": null,
            "display": null,
            "flex": null,
            "flex_flow": null,
            "grid_area": null,
            "grid_auto_columns": null,
            "grid_auto_flow": null,
            "grid_auto_rows": null,
            "grid_column": null,
            "grid_gap": null,
            "grid_row": null,
            "grid_template_areas": null,
            "grid_template_columns": null,
            "grid_template_rows": null,
            "height": null,
            "justify_content": null,
            "justify_items": null,
            "left": null,
            "margin": null,
            "max_height": null,
            "max_width": null,
            "min_height": null,
            "min_width": null,
            "object_fit": null,
            "object_position": null,
            "order": null,
            "overflow": null,
            "overflow_x": null,
            "overflow_y": null,
            "padding": null,
            "right": null,
            "top": null,
            "visibility": null,
            "width": null
          }
        },
        "da76830ca6ef480c8daa52f5e98a298b": {
          "model_module": "@jupyter-widgets/controls",
          "model_module_version": "1.5.0",
          "model_name": "HTMLModel",
          "state": {
            "_dom_classes": [],
            "_model_module": "@jupyter-widgets/controls",
            "_model_module_version": "1.5.0",
            "_model_name": "HTMLModel",
            "_view_count": null,
            "_view_module": "@jupyter-widgets/controls",
            "_view_module_version": "1.5.0",
            "_view_name": "HTMLView",
            "description": "",
            "description_tooltip": null,
            "layout": "IPY_MODEL_5d0491e3a7bf465fab955ccc24906dd5",
            "placeholder": "​",
            "style": "IPY_MODEL_29ae07b2981e467581df5413ccffe771",
            "value": "Featurizing p: 100%"
          }
        },
        "dbd41eef37424829a0195e3e6e76a9fe": {
          "model_module": "@jupyter-widgets/base",
          "model_module_version": "1.2.0",
          "model_name": "LayoutModel",
          "state": {
            "_model_module": "@jupyter-widgets/base",
            "_model_module_version": "1.2.0",
            "_model_name": "LayoutModel",
            "_view_count": null,
            "_view_module": "@jupyter-widgets/base",
            "_view_module_version": "1.2.0",
            "_view_name": "LayoutView",
            "align_content": null,
            "align_items": null,
            "align_self": null,
            "border": null,
            "bottom": null,
            "display": null,
            "flex": null,
            "flex_flow": null,
            "grid_area": null,
            "grid_auto_columns": null,
            "grid_auto_flow": null,
            "grid_auto_rows": null,
            "grid_column": null,
            "grid_gap": null,
            "grid_row": null,
            "grid_template_areas": null,
            "grid_template_columns": null,
            "grid_template_rows": null,
            "height": null,
            "justify_content": null,
            "justify_items": null,
            "left": null,
            "margin": null,
            "max_height": null,
            "max_width": null,
            "min_height": null,
            "min_width": null,
            "object_fit": null,
            "object_position": null,
            "order": null,
            "overflow": null,
            "overflow_x": null,
            "overflow_y": null,
            "padding": null,
            "right": null,
            "top": null,
            "visibility": null,
            "width": null
          }
        },
        "dd219017c5d04517a2e6d4286d2e0f06": {
          "model_module": "@jupyter-widgets/controls",
          "model_module_version": "1.5.0",
          "model_name": "FloatProgressModel",
          "state": {
            "_dom_classes": [],
            "_model_module": "@jupyter-widgets/controls",
            "_model_module_version": "1.5.0",
            "_model_name": "FloatProgressModel",
            "_view_count": null,
            "_view_module": "@jupyter-widgets/controls",
            "_view_module_version": "1.5.0",
            "_view_name": "ProgressView",
            "bar_style": "success",
            "description": "",
            "description_tooltip": null,
            "layout": "IPY_MODEL_4c8b74ff4a4c42f28bd0697a1ddd0fc5",
            "max": 6628,
            "min": 0,
            "orientation": "horizontal",
            "style": "IPY_MODEL_508bce18d83f40fdbee569535f9db8d9",
            "value": 6628
          }
        },
        "dda2fa113e5246eda8c580b6cb14b8d8": {
          "model_module": "@jupyter-widgets/controls",
          "model_module_version": "1.5.0",
          "model_name": "FloatProgressModel",
          "state": {
            "_dom_classes": [],
            "_model_module": "@jupyter-widgets/controls",
            "_model_module_version": "1.5.0",
            "_model_name": "FloatProgressModel",
            "_view_count": null,
            "_view_module": "@jupyter-widgets/controls",
            "_view_module_version": "1.5.0",
            "_view_name": "ProgressView",
            "bar_style": "success",
            "description": "",
            "description_tooltip": null,
            "layout": "IPY_MODEL_d1f8521d01184c64a05d9a5878456d69",
            "max": 3247202234,
            "min": 0,
            "orientation": "horizontal",
            "style": "IPY_MODEL_c426e75be4eb47feb48d8f07bb0366b7",
            "value": 3247202234
          }
        },
        "dfeb3a877d0f4c2da9cc60f5f3a5f01e": {
          "model_module": "@jupyter-widgets/controls",
          "model_module_version": "1.5.0",
          "model_name": "ProgressStyleModel",
          "state": {
            "_model_module": "@jupyter-widgets/controls",
            "_model_module_version": "1.5.0",
            "_model_name": "ProgressStyleModel",
            "_view_count": null,
            "_view_module": "@jupyter-widgets/base",
            "_view_module_version": "1.2.0",
            "_view_name": "StyleView",
            "bar_color": null,
            "description_width": ""
          }
        },
        "e19c0a343947409db291c9cd5afeb626": {
          "model_module": "@jupyter-widgets/base",
          "model_module_version": "1.2.0",
          "model_name": "LayoutModel",
          "state": {
            "_model_module": "@jupyter-widgets/base",
            "_model_module_version": "1.2.0",
            "_model_name": "LayoutModel",
            "_view_count": null,
            "_view_module": "@jupyter-widgets/base",
            "_view_module_version": "1.2.0",
            "_view_name": "LayoutView",
            "align_content": null,
            "align_items": null,
            "align_self": null,
            "border": null,
            "bottom": null,
            "display": null,
            "flex": null,
            "flex_flow": null,
            "grid_area": null,
            "grid_auto_columns": null,
            "grid_auto_flow": null,
            "grid_auto_rows": null,
            "grid_column": null,
            "grid_gap": null,
            "grid_row": null,
            "grid_template_areas": null,
            "grid_template_columns": null,
            "grid_template_rows": null,
            "height": null,
            "justify_content": null,
            "justify_items": null,
            "left": null,
            "margin": null,
            "max_height": null,
            "max_width": null,
            "min_height": null,
            "min_width": null,
            "object_fit": null,
            "object_position": null,
            "order": null,
            "overflow": null,
            "overflow_x": null,
            "overflow_y": null,
            "padding": null,
            "right": null,
            "top": null,
            "visibility": null,
            "width": null
          }
        },
        "e55b3366de92435ca91aef0083be29dc": {
          "model_module": "@jupyter-widgets/base",
          "model_module_version": "1.2.0",
          "model_name": "LayoutModel",
          "state": {
            "_model_module": "@jupyter-widgets/base",
            "_model_module_version": "1.2.0",
            "_model_name": "LayoutModel",
            "_view_count": null,
            "_view_module": "@jupyter-widgets/base",
            "_view_module_version": "1.2.0",
            "_view_name": "LayoutView",
            "align_content": null,
            "align_items": null,
            "align_self": null,
            "border": null,
            "bottom": null,
            "display": null,
            "flex": null,
            "flex_flow": null,
            "grid_area": null,
            "grid_auto_columns": null,
            "grid_auto_flow": null,
            "grid_auto_rows": null,
            "grid_column": null,
            "grid_gap": null,
            "grid_row": null,
            "grid_template_areas": null,
            "grid_template_columns": null,
            "grid_template_rows": null,
            "height": null,
            "justify_content": null,
            "justify_items": null,
            "left": null,
            "margin": null,
            "max_height": null,
            "max_width": null,
            "min_height": null,
            "min_width": null,
            "object_fit": null,
            "object_position": null,
            "order": null,
            "overflow": null,
            "overflow_x": null,
            "overflow_y": null,
            "padding": null,
            "right": null,
            "top": null,
            "visibility": null,
            "width": null
          }
        },
        "ed7901c8b91d4fdd8e6439a3849e5f3c": {
          "model_module": "@jupyter-widgets/controls",
          "model_module_version": "1.5.0",
          "model_name": "HTMLModel",
          "state": {
            "_dom_classes": [],
            "_model_module": "@jupyter-widgets/controls",
            "_model_module_version": "1.5.0",
            "_model_name": "HTMLModel",
            "_view_count": null,
            "_view_module": "@jupyter-widgets/controls",
            "_view_module_version": "1.5.0",
            "_view_name": "HTMLView",
            "description": "",
            "description_tooltip": null,
            "layout": "IPY_MODEL_689fbb6aecf84c778fa48dce5164b5c0",
            "placeholder": "​",
            "style": "IPY_MODEL_439fcafcea624d3a97d74b272dd5cb02",
            "value": " 3.25G/3.25G [00:55&lt;00:00, 179MB/s]"
          }
        },
        "f230427ee7f24ab0b7cc8679459560c9": {
          "model_module": "@jupyter-widgets/base",
          "model_module_version": "1.2.0",
          "model_name": "LayoutModel",
          "state": {
            "_model_module": "@jupyter-widgets/base",
            "_model_module_version": "1.2.0",
            "_model_name": "LayoutModel",
            "_view_count": null,
            "_view_module": "@jupyter-widgets/base",
            "_view_module_version": "1.2.0",
            "_view_name": "LayoutView",
            "align_content": null,
            "align_items": null,
            "align_self": null,
            "border": null,
            "bottom": null,
            "display": null,
            "flex": null,
            "flex_flow": null,
            "grid_area": null,
            "grid_auto_columns": null,
            "grid_auto_flow": null,
            "grid_auto_rows": null,
            "grid_column": null,
            "grid_gap": null,
            "grid_row": null,
            "grid_template_areas": null,
            "grid_template_columns": null,
            "grid_template_rows": null,
            "height": null,
            "justify_content": null,
            "justify_items": null,
            "left": null,
            "margin": null,
            "max_height": null,
            "max_width": null,
            "min_height": null,
            "min_width": null,
            "object_fit": null,
            "object_position": null,
            "order": null,
            "overflow": null,
            "overflow_x": null,
            "overflow_y": null,
            "padding": null,
            "right": null,
            "top": null,
            "visibility": null,
            "width": null
          }
        },
        "f408f337632645f79be1ebc6ecc89c08": {
          "model_module": "@jupyter-widgets/controls",
          "model_module_version": "1.5.0",
          "model_name": "ProgressStyleModel",
          "state": {
            "_model_module": "@jupyter-widgets/controls",
            "_model_module_version": "1.5.0",
            "_model_name": "ProgressStyleModel",
            "_view_count": null,
            "_view_module": "@jupyter-widgets/base",
            "_view_module_version": "1.2.0",
            "_view_name": "StyleView",
            "bar_color": null,
            "description_width": ""
          }
        },
        "f40c7489759b4521b5b751212dd86a09": {
          "model_module": "@jupyter-widgets/base",
          "model_module_version": "1.2.0",
          "model_name": "LayoutModel",
          "state": {
            "_model_module": "@jupyter-widgets/base",
            "_model_module_version": "1.2.0",
            "_model_name": "LayoutModel",
            "_view_count": null,
            "_view_module": "@jupyter-widgets/base",
            "_view_module_version": "1.2.0",
            "_view_name": "LayoutView",
            "align_content": null,
            "align_items": null,
            "align_self": null,
            "border": null,
            "bottom": null,
            "display": null,
            "flex": null,
            "flex_flow": null,
            "grid_area": null,
            "grid_auto_columns": null,
            "grid_auto_flow": null,
            "grid_auto_rows": null,
            "grid_column": null,
            "grid_gap": null,
            "grid_row": null,
            "grid_template_areas": null,
            "grid_template_columns": null,
            "grid_template_rows": null,
            "height": null,
            "justify_content": null,
            "justify_items": null,
            "left": null,
            "margin": null,
            "max_height": null,
            "max_width": null,
            "min_height": null,
            "min_width": null,
            "object_fit": null,
            "object_position": null,
            "order": null,
            "overflow": null,
            "overflow_x": null,
            "overflow_y": null,
            "padding": null,
            "right": null,
            "top": null,
            "visibility": null,
            "width": null
          }
        },
        "f4d6a598e66e4d78a55b5ec10b594f6b": {
          "model_module": "@jupyter-widgets/base",
          "model_module_version": "1.2.0",
          "model_name": "LayoutModel",
          "state": {
            "_model_module": "@jupyter-widgets/base",
            "_model_module_version": "1.2.0",
            "_model_name": "LayoutModel",
            "_view_count": null,
            "_view_module": "@jupyter-widgets/base",
            "_view_module_version": "1.2.0",
            "_view_name": "LayoutView",
            "align_content": null,
            "align_items": null,
            "align_self": null,
            "border": null,
            "bottom": null,
            "display": null,
            "flex": null,
            "flex_flow": null,
            "grid_area": null,
            "grid_auto_columns": null,
            "grid_auto_flow": null,
            "grid_auto_rows": null,
            "grid_column": null,
            "grid_gap": null,
            "grid_row": null,
            "grid_template_areas": null,
            "grid_template_columns": null,
            "grid_template_rows": null,
            "height": null,
            "justify_content": null,
            "justify_items": null,
            "left": null,
            "margin": null,
            "max_height": null,
            "max_width": null,
            "min_height": null,
            "min_width": null,
            "object_fit": null,
            "object_position": null,
            "order": null,
            "overflow": null,
            "overflow_x": null,
            "overflow_y": null,
            "padding": null,
            "right": null,
            "top": null,
            "visibility": null,
            "width": null
          }
        },
        "f7826425bb1b45ffbee6d85164048070": {
          "model_module": "@jupyter-widgets/controls",
          "model_module_version": "1.5.0",
          "model_name": "HTMLModel",
          "state": {
            "_dom_classes": [],
            "_model_module": "@jupyter-widgets/controls",
            "_model_module_version": "1.5.0",
            "_model_name": "HTMLModel",
            "_view_count": null,
            "_view_module": "@jupyter-widgets/controls",
            "_view_module_version": "1.5.0",
            "_view_name": "HTMLView",
            "description": "",
            "description_tooltip": null,
            "layout": "IPY_MODEL_9f2c591add2c417a8779f456b511983d",
            "placeholder": "​",
            "style": "IPY_MODEL_195c812a8d544849935bc911b8400820",
            "value": " 6.63k/6.63k [00:00&lt;00:00, 429kB/s]"
          }
        },
        "f85cb698ec3c41c7aa4b695a08fc8cc1": {
          "model_module": "@jupyter-widgets/controls",
          "model_module_version": "1.5.0",
          "model_name": "ProgressStyleModel",
          "state": {
            "_model_module": "@jupyter-widgets/controls",
            "_model_module_version": "1.5.0",
            "_model_name": "ProgressStyleModel",
            "_view_count": null,
            "_view_module": "@jupyter-widgets/base",
            "_view_module_version": "1.2.0",
            "_view_name": "StyleView",
            "bar_color": null,
            "description_width": ""
          }
        },
        "f8d755123ab74b328631e7ad28c718de": {
          "model_module": "@jupyter-widgets/base",
          "model_module_version": "1.2.0",
          "model_name": "LayoutModel",
          "state": {
            "_model_module": "@jupyter-widgets/base",
            "_model_module_version": "1.2.0",
            "_model_name": "LayoutModel",
            "_view_count": null,
            "_view_module": "@jupyter-widgets/base",
            "_view_module_version": "1.2.0",
            "_view_name": "LayoutView",
            "align_content": null,
            "align_items": null,
            "align_self": null,
            "border": null,
            "bottom": null,
            "display": null,
            "flex": null,
            "flex_flow": null,
            "grid_area": null,
            "grid_auto_columns": null,
            "grid_auto_flow": null,
            "grid_auto_rows": null,
            "grid_column": null,
            "grid_gap": null,
            "grid_row": null,
            "grid_template_areas": null,
            "grid_template_columns": null,
            "grid_template_rows": null,
            "height": null,
            "justify_content": null,
            "justify_items": null,
            "left": null,
            "margin": null,
            "max_height": null,
            "max_width": null,
            "min_height": null,
            "min_width": null,
            "object_fit": null,
            "object_position": null,
            "order": null,
            "overflow": null,
            "overflow_x": null,
            "overflow_y": null,
            "padding": null,
            "right": null,
            "top": null,
            "visibility": null,
            "width": null
          }
        },
        "f962417c5aba43e0a7e7d2b25ce0062a": {
          "model_module": "@jupyter-widgets/controls",
          "model_module_version": "1.5.0",
          "model_name": "HBoxModel",
          "state": {
            "_dom_classes": [],
            "_model_module": "@jupyter-widgets/controls",
            "_model_module_version": "1.5.0",
            "_model_name": "HBoxModel",
            "_view_count": null,
            "_view_module": "@jupyter-widgets/controls",
            "_view_module_version": "1.5.0",
            "_view_name": "HBoxView",
            "box_style": "",
            "children": [
              "IPY_MODEL_d96c60a5c2b949209691028b1b3d02ce",
              "IPY_MODEL_17fa6f9656364087aca1c4ae428bae00",
              "IPY_MODEL_90fd56ce917c4753acee60f750e4c244"
            ],
            "layout": "IPY_MODEL_0865bb2e1c1c40d8ab753116f02c253a"
          }
        },
        "fb2911c2624448f5adaa6d1baaaeeea1": {
          "model_module": "@jupyter-widgets/controls",
          "model_module_version": "1.5.0",
          "model_name": "FloatProgressModel",
          "state": {
            "_dom_classes": [],
            "_model_module": "@jupyter-widgets/controls",
            "_model_module_version": "1.5.0",
            "_model_name": "FloatProgressModel",
            "_view_count": null,
            "_view_module": "@jupyter-widgets/controls",
            "_view_module_version": "1.5.0",
            "_view_name": "ProgressView",
            "bar_style": "success",
            "description": "",
            "description_tooltip": null,
            "layout": "IPY_MODEL_9192224121f64ac9ac818d7d7d2832aa",
            "max": 1042301,
            "min": 0,
            "orientation": "horizontal",
            "style": "IPY_MODEL_f85cb698ec3c41c7aa4b695a08fc8cc1",
            "value": 1042301
          }
        },
        "fbfa6e8698d246b6a65e89a4d743eeba": {
          "model_module": "@jupyter-widgets/controls",
          "model_module_version": "1.5.0",
          "model_name": "DescriptionStyleModel",
          "state": {
            "_model_module": "@jupyter-widgets/controls",
            "_model_module_version": "1.5.0",
            "_model_name": "DescriptionStyleModel",
            "_view_count": null,
            "_view_module": "@jupyter-widgets/base",
            "_view_module_version": "1.2.0",
            "_view_name": "StyleView",
            "description_width": ""
          }
        },
        "fc478972b63f4fb4908da05614c99041": {
          "model_module": "@jupyter-widgets/controls",
          "model_module_version": "1.5.0",
          "model_name": "DescriptionStyleModel",
          "state": {
            "_model_module": "@jupyter-widgets/controls",
            "_model_module_version": "1.5.0",
            "_model_name": "DescriptionStyleModel",
            "_view_count": null,
            "_view_module": "@jupyter-widgets/base",
            "_view_module_version": "1.2.0",
            "_view_name": "StyleView",
            "description_width": ""
          }
        },
        "fcd102872acb499bb3c738f60e1db99a": {
          "model_module": "@jupyter-widgets/controls",
          "model_module_version": "1.5.0",
          "model_name": "HBoxModel",
          "state": {
            "_dom_classes": [],
            "_model_module": "@jupyter-widgets/controls",
            "_model_module_version": "1.5.0",
            "_model_name": "HBoxModel",
            "_view_count": null,
            "_view_module": "@jupyter-widgets/controls",
            "_view_module_version": "1.5.0",
            "_view_name": "HBoxView",
            "box_style": "",
            "children": [
              "IPY_MODEL_b5e70fe1c90748d6a7460fb7bd28b29f",
              "IPY_MODEL_80f1f2e6ebb64fa68f3a3dfacf63a06b",
              "IPY_MODEL_57d45440408e4750a709527048e63a0d"
            ],
            "layout": "IPY_MODEL_14a76acd024e4f97b35aca49f85af98e"
          }
        }
      }
    }
  },
  "nbformat": 4,
  "nbformat_minor": 0
}
